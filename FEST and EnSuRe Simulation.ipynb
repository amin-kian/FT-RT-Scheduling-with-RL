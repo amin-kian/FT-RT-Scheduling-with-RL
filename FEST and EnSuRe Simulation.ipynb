{
 "cells": [
  {
   "cell_type": "markdown",
   "metadata": {},
   "source": [
    "# 1. Import codes and libraries"
   ]
  },
  {
   "cell_type": "code",
   "execution_count": 1,
   "metadata": {},
   "outputs": [],
   "source": [
    "# import algorithms from .py files\n",
    "from System import System\n",
    "from Task import Task\n",
    "from ApproxTask import ApproxTask"
   ]
  },
  {
   "cell_type": "markdown",
   "metadata": {},
   "source": [
    "# 2. Simulations and Results"
   ]
  },
  {
   "cell_type": "markdown",
   "metadata": {},
   "source": [
    "## 1) Simulation Parameters\n",
    "\n",
    "Simulation parameters for the task set, system and scheduling."
   ]
  },
  {
   "cell_type": "code",
   "execution_count": 3,
   "metadata": {
    "scrolled": true
   },
   "outputs": [],
   "source": [
    "# 1. Task Set Parameters\n",
    "sys_utils = [0.5, 0.6, 0.7, 0.8, 0.9]\n",
    "num_sets = 5  # no. task sets to generate with this configuration\n",
    "n = 200  # no. tasks in set\n",
    "frame_duration = 500  # length of frame, in ms\n",
    "\n",
    "precision_dp = 2  # how many decimal places, i.e. 0.01\n",
    "time_step = 1 / 10**precision_dp  #0.01\n",
    "lp_hp_ratio = 0.8  # ratio of LP core:HP core speeds"
   ]
  },
  {
   "cell_type": "markdown",
   "metadata": {},
   "source": [
    "## 2) Generate Task Sets (optional)\n",
    "\n",
    "This cell will generate a new group of task sets into the 'tasksets/' folder in this directory. **If there is already a group of task sets in the folder, there is no need to run the cell in this section.**\n",
    "\n",
    "As the tasksets are randomly generated, the obtained results might slightly differ in exact values, but the same trends should be observed."
   ]
  },
  {
   "cell_type": "code",
   "execution_count": 4,
   "metadata": {
    "scrolled": true
   },
   "outputs": [],
   "source": [
    "# import taskset generator algorithm from .py file\n",
    "from TasksetGenerator import TasksetGenerator\n",
    "\n",
    "# 1. Generate tasksets for system utilisation 50%, 60%, 70%, 80%, 90%\n",
    "for sys_util in sys_utils:\n",
    "    for i in range(num_sets):\n",
    "        taskset_gen = TasksetGenerator(\"normal\", n, frame_duration, sys_util, precision_dp, lp_hp_ratio)\n",
    "        taskset_gen.generate('tasksets/sysutil{0}_{1}.csv'.format(sys_util, i))"
   ]
  },
  {
   "cell_type": "markdown",
   "metadata": {},
   "source": [
    "## 2) Run Simulations\n",
    "\n",
    "As the simulations are run with the faults occurring randomly, the obtained results might slightly differ in exact values, but the same trends should be observed."
   ]
  },
  {
   "cell_type": "code",
   "execution_count": 52,
   "metadata": {},
   "outputs": [],
   "source": [
    "# import CSV reader libraries\n",
    "from csv import reader\n",
    "from ast import literal_eval\n",
    "\n",
    "# import matplotlib for graph plotting\n",
    "import matplotlib.pyplot as plt\n",
    "\n",
    "# no. times to run for average\n",
    "repeat = 5"
   ]
  },
  {
   "cell_type": "markdown",
   "metadata": {},
   "source": [
    "### a. Energy Consumption vs No. Cores"
   ]
  },
  {
   "cell_type": "code",
   "execution_count": 53,
   "metadata": {},
   "outputs": [
    {
     "name": "stdout",
     "output_type": "stream",
     "text": [
      "Run FEST\n",
      "Run EnSuRe - 1 LP core\n",
      "Run EnSuRe - 2 LP cores\n",
      "Run EnSuRe - 3 LP cores\n",
      "Run EnSuRe - 4 LP cores\n",
      "Done\n",
      "[152.86602049999993, 170.07824075002628, 181.13355850001284, 191.2028265000086, 200.44350650000575]\n"
     ]
    }
   ],
   "source": [
    "# scheduler parameters\n",
    "k = 20\n",
    "\n",
    "# results to collect\n",
    "energy_consumed_results = []   # get energy consumed from the simulations\n",
    "\n",
    "# 2. Run algorithms\n",
    "def run(scheduler_type, num_lpcores):\n",
    "    sys_util = 0.5\n",
    "    energy_consumed_per_sysutil = 0\n",
    "    for i in range(num_sets):\n",
    "        # i. import task set\n",
    "        with open('tasksets/sysutil{0}_{1}.csv'.format(sys_util, i)) as read_obj:\n",
    "            # pass the file object to reader() to get the reader object\n",
    "            csv_reader = reader(read_obj)\n",
    "            # Get all rows of csv from csv_reader object as list of tuples\n",
    "            tasks_data = [tuple(map(literal_eval, x)) for x in map(tuple, csv_reader)]\n",
    "\n",
    "        # ii. convert data into Task objects\n",
    "        tasks = []\n",
    "        for task in tasks_data:\n",
    "            if scheduler_type == \"FEST\":\n",
    "                tasks.append(Task(task[0], task[1], task[2]))\n",
    "            elif scheduler_type == \"EnSuRe\":\n",
    "                tasks.append(ApproxTask(task[0], task[1], task[2], 0, 0, task[3]))\n",
    "\n",
    "        # iii. run the FEST algorithm\n",
    "        energy_consumed = 0\n",
    "        for x in range(repeat):  # repeat several times, due to randomised fault distribution, to get average\n",
    "            system = System(scheduler_type, k, frame_duration, time_step, num_lpcores, lp_hp_ratio, False)\n",
    "            system.run(tasks)\n",
    "            # get total energy consumption\n",
    "            energy = system.get_energy_consumption()\n",
    "\n",
    "            energy_consumed += energy\n",
    "        energy_consumed /= repeat  # get the average from the repeated runs\n",
    "\n",
    "        # iv. get energy consumption data point from this task set\n",
    "        energy_consumed_per_sysutil += energy_consumed\n",
    "\n",
    "    # v. get the average energy consumption for this sys_util value over different task sets\n",
    "    energy_consumed_per_sysutil /= num_sets\n",
    "        \n",
    "    return energy_consumed_per_sysutil\n",
    "\n",
    "print(\"Run FEST\")\n",
    "energy_consumed_results.append(run(\"FEST\", 1))\n",
    "print(\"Run EnSuRe - 1 LP core\")\n",
    "energy_consumed_results.append(run(\"EnSuRe\", 1))\n",
    "print(\"Run EnSuRe - 2 LP cores\")\n",
    "energy_consumed_results.append(run(\"EnSuRe\", 2))\n",
    "print(\"Run EnSuRe - 3 LP cores\")\n",
    "energy_consumed_results.append(run(\"EnSuRe\", 3))\n",
    "print(\"Run EnSuRe - 4 LP cores\")\n",
    "energy_consumed_results.append(run(\"EnSuRe\", 4))\n",
    "        \n",
    "print(\"Done\")\n",
    "print(energy_consumed_results)"
   ]
  },
  {
   "cell_type": "code",
   "execution_count": 54,
   "metadata": {},
   "outputs": [
    {
     "name": "stdout",
     "output_type": "stream",
     "text": [
      "[0.76263893 0.84850961 0.90366389 0.95389883 1.        ]\n"
     ]
    }
   ],
   "source": [
    "# 3. Normalize energy consumption\n",
    "import numpy as np\n",
    "\n",
    "# get max energy for normalizing\n",
    "max_energy = max(energy_consumed_results)\n",
    "\n",
    "# normalize results\n",
    "results_norm = np.array(energy_consumed_results) / max_energy\n",
    "\n",
    "print(results_norm)"
   ]
  },
  {
   "cell_type": "code",
   "execution_count": 61,
   "metadata": {},
   "outputs": [
    {
     "data": {
      "image/png": "[encoded data removed]",
      "text/plain": [
       "<Figure size 432x288 with 1 Axes>"
      ]
     },
     "metadata": {
      "needs_background": "light"
     },
     "output_type": "display_data"
    }
   ],
   "source": [
    "# 4. Plot graph\n",
    "\n",
    "plt.title('Energy Consumption vs No. LP Cores')\n",
    "#plt.xlabel('Sys Util (%)')\n",
    "plt.ylabel('Normalized Energy Consumption')\n",
    "\n",
    "plt.ylim([0.0, 1.1])\n",
    "\n",
    "x_axis = ['FEST', 'EnSuRe\\n(1 LP-core)', 'EnSuRe\\n(2 LP-core)', 'EnSuRe\\n(3 LP-core)', 'EnSuRe\\n(4 LP-core)']\n",
    "\n",
    "plt.plot(x_axis, results_norm)\n",
    "\n",
    "plt.show()"
   ]
  },
  {
   "cell_type": "markdown",
   "metadata": {},
   "source": [
    "### b. Energy Consumption vs System Utilisation (%)"
   ]
  },
  {
   "cell_type": "code",
   "execution_count": 62,
   "metadata": {
    "scrolled": false
   },
   "outputs": [
    {
     "name": "stdout",
     "output_type": "stream",
     "text": [
      "Run FEST\n",
      "Run EnSuRe - 2 LP cores\n",
      "Run EnSuRe - 3 LP cores\n",
      "Run EnSuRe - 4 LP cores\n",
      "Done\n",
      "[[152.93063449999994, 176.20540349999993, 201.46538724999994, 224.9051644999998, 246.03015174999987], [181.76021975001305, 206.77890375000507, 233.11853924999735, 259.82103024999367, 284.4692737499934], [190.8671252500084, 216.30895425000296, 244.93743749999734, 269.8979052499948, 293.55698199999495], [200.93839725000578, 227.3121707500019, 253.98969774999802, 281.702745999996, 305.52771724999565]]\n"
     ]
    }
   ],
   "source": [
    "# scheduler parameters\n",
    "k = 20\n",
    "\n",
    "# results to collect\n",
    "energy_consumed_results = []   # get energy consumed from the simulations\n",
    "\n",
    "# 2. Run algorithms\n",
    "def run(scheduler_type, num_lpcores):\n",
    "    results = []\n",
    "    for sys_util in sys_utils:\n",
    "        energy_consumed_per_sysutil = 0\n",
    "        for i in range(num_sets):\n",
    "            # i. import task set\n",
    "            with open('tasksets/sysutil{0}_{1}.csv'.format(sys_util, i)) as read_obj:\n",
    "                # pass the file object to reader() to get the reader object\n",
    "                csv_reader = reader(read_obj)\n",
    "                # Get all rows of csv from csv_reader object as list of tuples\n",
    "                tasks_data = [tuple(map(literal_eval, x)) for x in map(tuple, csv_reader)]\n",
    "\n",
    "            # ii. convert data into Task objects\n",
    "            tasks = []\n",
    "            for task in tasks_data:\n",
    "                if scheduler_type == \"FEST\":\n",
    "                    tasks.append(Task(task[0], task[1], task[2]))\n",
    "                elif scheduler_type == \"EnSuRe\":\n",
    "                    tasks.append(ApproxTask(task[0], task[1], task[2], 0, 0, task[3]))\n",
    "\n",
    "            # iii. run the FEST algorithm\n",
    "            energy_consumed = 0\n",
    "            for x in range(repeat):  # repeat several times, due to randomised fault distribution, to get average\n",
    "                system = System(scheduler_type, k, frame_duration, time_step, num_lpcores, lp_hp_ratio, False)\n",
    "                system.run(tasks)\n",
    "                # get total energy consumption\n",
    "                energy = system.get_energy_consumption()\n",
    "\n",
    "                energy_consumed += energy\n",
    "            energy_consumed /= repeat  # get the average from the repeated runs\n",
    "\n",
    "            # iv. get energy consumption data point from this task set\n",
    "            energy_consumed_per_sysutil += energy_consumed\n",
    "\n",
    "        # v. get the average energy consumption for this sys_util value over different task sets\n",
    "        energy_consumed_per_sysutil /= num_sets\n",
    "\n",
    "        results.append(energy_consumed_per_sysutil)\n",
    "        \n",
    "    return results\n",
    "\n",
    "print(\"Run FEST\")\n",
    "energy_consumed_results.append(run(\"FEST\", 1))\n",
    "print(\"Run EnSuRe - 2 LP cores\")\n",
    "energy_consumed_results.append(run(\"EnSuRe\", 2))\n",
    "print(\"Run EnSuRe - 3 LP cores\")\n",
    "energy_consumed_results.append(run(\"EnSuRe\", 3))\n",
    "print(\"Run EnSuRe - 4 LP cores\")\n",
    "energy_consumed_results.append(run(\"EnSuRe\", 4))\n",
    "        \n",
    "print(\"Done\")\n",
    "print(energy_consumed_results)"
   ]
  },
  {
   "cell_type": "code",
   "execution_count": 63,
   "metadata": {},
   "outputs": [
    {
     "name": "stdout",
     "output_type": "stream",
     "text": [
      "[array([0.50054586, 0.57672477, 0.65940134, 0.73612033, 0.80526295]), array([0.59490583, 0.67679262, 0.76300292, 0.85040085, 0.93107518]), array([0.62471296, 0.70798472, 0.80168647, 0.88338272, 0.96081948]), array([0.65767649, 0.74399852, 0.83131475, 0.92202026, 1.        ])]\n"
     ]
    }
   ],
   "source": [
    "# 3. Normalize energy consumption\n",
    "import numpy as np\n",
    "\n",
    "# get max energy for normalizing\n",
    "max_energy = 0\n",
    "for i in range(len(energy_consumed_results)):\n",
    "    max_energy = max(max_energy, max(energy_consumed_results[i]))\n",
    "\n",
    "# normalize results\n",
    "results_norm = []\n",
    "for results in energy_consumed_results:\n",
    "    results_norm.append(np.array(results) / max_energy)\n",
    "\n",
    "print(results_norm)"
   ]
  },
  {
   "cell_type": "code",
   "execution_count": 64,
   "metadata": {},
   "outputs": [
    {
     "data": {
      "image/png": "[encoded data removed]",
      "text/plain": [
       "<Figure size 432x288 with 1 Axes>"
      ]
     },
     "metadata": {
      "needs_background": "light"
     },
     "output_type": "display_data"
    }
   ],
   "source": [
    "# 4. Plot graph\n",
    "\n",
    "plt.title('Energy Consumption vs Sys Util (%)')\n",
    "plt.xlabel('Sys Util (%)')\n",
    "plt.ylabel('Normalized Energy Consumption')\n",
    "\n",
    "plt.ylim([0.0, 1.1])\n",
    "\n",
    "plt.plot(sys_utils, results_norm[0], label='FEST')\n",
    "plt.plot(sys_utils, results_norm[1], label='EnSuRe (2 LP-core)')\n",
    "plt.plot(sys_utils, results_norm[2], label='EnSuRe (3 LP-core)')\n",
    "plt.plot(sys_utils, results_norm[3], label='EnSuRe (4 LP-core)')\n",
    "\n",
    "plt.legend()\n",
    "\n",
    "plt.show()"
   ]
  },
  {
   "cell_type": "markdown",
   "metadata": {},
   "source": [
    "### c. Analysing impact of frequency of HP Core\n",
    "\n",
    "The frequency of the backup core (HP Core) could be set to different scales, which controls how fast the backup core is processing.\n",
    "The change in frequency affects energy consumption, and the active duration of the backup core."
   ]
  },
  {
   "cell_type": "code",
   "execution_count": 65,
   "metadata": {},
   "outputs": [
    {
     "name": "stdout",
     "output_type": "stream",
     "text": [
      "Run FEST\n",
      "Run EnSuRe - 2 LP cores\n",
      "Run EnSuRe - 3 LP cores\n",
      "Run EnSuRe - 4 LP cores\n",
      "Done\n",
      "[[2933.651548, 792.196604, 418.11101259259266, 287.48059599999993, 218.07934799999992, 186.20892459259255, 166.2325510204081, 152.67502624999997, 143.56071145130312, 137.14422399999995], [6024.871327999936, 1224.9605160000006, 590.3675955555635, 378.3631520000105, 281.90798800001215, 228.30651525927215, 198.58256820992548, 181.46196275001324, 167.6652804664051, 158.70387200001255], [6014.39007999993, 1240.4252679999968, 603.8146497777818, 389.82233000000633, 288.2896800000078, 239.03878222223096, 209.76716795336128, 191.06709950000865, 178.63303737723743, 168.9820680000085], [6137.104579999929, 1257.9445319999936, 609.7135785185199, 398.6881600000035, 302.5170000000053, 251.1318845925986, 220.47653509038483, 201.56944550000594, 189.2455805871113, 179.96453600000558]]\n",
      "[[2.8251999999999997, 5.4676, 8.3536, 11.450400000000002, 13.6356, 16.6304, 19.5776, 22.2036, 24.8936, 27.5608], [5.905199999999921, 8.840799999999906, 12.699599999999874, 16.51999999999986, 20.183599999999945, 23.286800000000035, 26.674800000000044, 30.969200000000058, 33.982000000000006, 37.537599999999934], [5.884799999999922, 8.884799999999904, 12.791999999999874, 16.619599999999856, 19.72359999999993, 23.45160000000004, 27.046000000000042, 30.780000000000047, 34.754000000000005, 37.695199999999936], [5.997599999999922, 8.945999999999904, 12.682399999999875, 16.551199999999856, 20.25319999999995, 23.898800000000044, 27.37160000000005, 31.039200000000058, 35.24720000000001, 38.608799999999924]]\n"
     ]
    }
   ],
   "source": [
    "# scheduler parameters\n",
    "k = 20\n",
    "sys_util = 0.5  # fixed at 50% system utilisation\n",
    "lp_hp_ratios = [0.1, 0.2, 0.3, 0.4, 0.5, 0.6, 0.7, 0.8, 0.9, 1.0]\n",
    "\n",
    "# results to collect\n",
    "energy_consumed_results = []   # get energy consumed from the simulations\n",
    "active_duration_results = []\n",
    "\n",
    "# 2. Run algorithms\n",
    "def run(scheduler_type, num_lpcores):\n",
    "    energy_results = []\n",
    "    active_results = []\n",
    "    for spd_ratio in lp_hp_ratios:\n",
    "        energy_consumed_per_sysutil = 0\n",
    "        active_duration_per_spdratio = 0\n",
    "        for i in range(num_sets):\n",
    "            # i. import task set\n",
    "            with open('tasksets/sysutil{0}_{1}.csv'.format(sys_util, i)) as read_obj:\n",
    "                # pass the file object to reader() to get the reader object\n",
    "                csv_reader = reader(read_obj)\n",
    "                # Get all rows of csv from csv_reader object as list of tuples\n",
    "                tasks_data = [tuple(map(literal_eval, x)) for x in map(tuple, csv_reader)]\n",
    "\n",
    "            # ii. convert data into Task objects\n",
    "            tasks = []\n",
    "            for task in tasks_data:\n",
    "                # Adjust HP core execution time based on new LP:HP speed ratio\n",
    "                hp_execTime = round(task[1] * spd_ratio, precision_dp)\n",
    "                if scheduler_type == \"FEST\":\n",
    "                    tasks.append(Task(task[0], task[1], hp_execTime))\n",
    "                elif scheduler_type == \"EnSuRe\":\n",
    "                    tasks.append(ApproxTask(task[0], task[1], hp_execTime, 0, 0, task[3]))\n",
    "\n",
    "            # iii. run the FEST algorithm\n",
    "            energy_consumed = 0\n",
    "            active_duration = 0\n",
    "            for x in range(repeat):  # repeat several times, due to randomised fault distribution, to get average\n",
    "                system = System(scheduler_type, k, frame_duration, time_step, num_lpcores, spd_ratio)\n",
    "                system.run(tasks)\n",
    "                # get total energy consumption\n",
    "                energy = system.get_energy_consumption()\n",
    "\n",
    "                # get HP core active duration\n",
    "                duration = system.get_hpcore_active_duration()\n",
    "\n",
    "                energy_consumed += energy\n",
    "                active_duration += duration\n",
    "            energy_consumed /= repeat  # get the average from the repeated runs\n",
    "            active_duration /= repeat\n",
    "\n",
    "            # iv. get energy consumption data point from this task set\n",
    "            energy_consumed_per_sysutil += energy_consumed\n",
    "            active_duration_per_spdratio += active_duration\n",
    "\n",
    "        # v. get the average energy consumption for this sys_util value over different task sets\n",
    "        energy_consumed_per_sysutil /= num_sets\n",
    "        active_duration_per_spdratio /= num_sets\n",
    "\n",
    "        energy_results.append(energy_consumed_per_sysutil)\n",
    "        active_results.append(active_duration_per_spdratio)\n",
    "        \n",
    "    return energy_results, active_results\n",
    "\n",
    "print(\"Run FEST\")\n",
    "results = run(\"FEST\", 1)\n",
    "energy_consumed_results.append(results[0])\n",
    "active_duration_results.append(results[1])\n",
    "\n",
    "print(\"Run EnSuRe - 2 LP cores\")\n",
    "results = run(\"EnSuRe\", 2)\n",
    "energy_consumed_results.append(results[0])\n",
    "active_duration_results.append(results[1])\n",
    "\n",
    "print(\"Run EnSuRe - 3 LP cores\")\n",
    "results = run(\"EnSuRe\", 3)\n",
    "energy_consumed_results.append(results[0])\n",
    "active_duration_results.append(results[1])\n",
    "\n",
    "print(\"Run EnSuRe - 4 LP cores\")\n",
    "results = run(\"EnSuRe\", 4)\n",
    "energy_consumed_results.append(results[0])\n",
    "active_duration_results.append(results[1])\n",
    "\n",
    "print(\"Done\")\n",
    "print(energy_consumed_results)\n",
    "print(active_duration_results)"
   ]
  },
  {
   "cell_type": "code",
   "execution_count": 66,
   "metadata": {},
   "outputs": [
    {
     "name": "stdout",
     "output_type": "stream",
     "text": [
      "[array([0.47801883, 0.12908312, 0.06812838, 0.04684303, 0.03553457,\n",
      "       0.03034149, 0.02708648, 0.02487737, 0.02339225, 0.02234673]), array([0.98171234, 0.19959909, 0.09619644, 0.06165174, 0.04593501,\n",
      "       0.03720101, 0.0323577 , 0.02956801, 0.02731993, 0.02585973]), array([0.9800045 , 0.20211897, 0.09838754, 0.06351893, 0.04697487,\n",
      "       0.03894977, 0.03418015, 0.0311331 , 0.02910705, 0.02753449]), array([1.        , 0.20497362, 0.09934874, 0.06496356, 0.04929311,\n",
      "       0.04092026, 0.03592517, 0.03284439, 0.0308363 , 0.02932401])]\n"
     ]
    }
   ],
   "source": [
    "# 3. Normalize energy consumption\n",
    "import numpy as np\n",
    "\n",
    "# get max energy for normalizing\n",
    "max_energy = 0\n",
    "for i in range(len(energy_consumed_results)):\n",
    "    max_energy = max(max_energy, max(energy_consumed_results[i]))\n",
    "\n",
    "# normalize results\n",
    "results_norm = []\n",
    "for results in energy_consumed_results:\n",
    "    results_norm.append(np.array(results) / max_energy)\n",
    "\n",
    "print(results_norm)"
   ]
  },
  {
   "cell_type": "code",
   "execution_count": 67,
   "metadata": {},
   "outputs": [
    {
     "data": {
      "image/png": "[encoded data removed]",
      "text/plain": [
       "<Figure size 432x288 with 1 Axes>"
      ]
     },
     "metadata": {
      "needs_background": "light"
     },
     "output_type": "display_data"
    }
   ],
   "source": [
    "# 4. Plot graph\n",
    "\n",
    "plt.title('Energy Consumption vs LP/HP Core Speed (Ratio)')\n",
    "plt.xlabel('LP/HP Core Speed (Ratio)')\n",
    "plt.ylabel('Normalized Energy Consumption')\n",
    "\n",
    "plt.ylim([0.0, 1.1])\n",
    "\n",
    "plt.plot(lp_hp_ratios, results_norm[0], label='FEST')\n",
    "plt.plot(lp_hp_ratios, results_norm[1], label='EnSuRe (2 LP-core)')\n",
    "plt.plot(lp_hp_ratios, results_norm[2], label='EnSuRe (3 LP-core)')\n",
    "plt.plot(lp_hp_ratios, results_norm[3], label='EnSuRe (4 LP-core)')\n",
    "\n",
    "plt.legend()\n",
    "\n",
    "plt.show()"
   ]
  },
  {
   "cell_type": "code",
   "execution_count": 69,
   "metadata": {},
   "outputs": [
    {
     "data": {
      "image/png": "[encoded data removed]",
      "text/plain": [
       "<Figure size 432x288 with 1 Axes>"
      ]
     },
     "metadata": {
      "needs_background": "light"
     },
     "output_type": "display_data"
    }
   ],
   "source": [
    "# Plot Backup Core Active Duration vs LP/HP Core Speed\n",
    "\n",
    "plt.plot(lp_hp_ratios, active_duration_results[0], label='FEST')\n",
    "plt.plot(lp_hp_ratios, active_duration_results[1], label='EnSuRe (2 LP-core)')\n",
    "plt.plot(lp_hp_ratios, active_duration_results[2], label='EnSuRe (3 LP-core)')\n",
    "plt.plot(lp_hp_ratios, active_duration_results[3], label='EnSuRe (4 LP-core)')\n",
    "plt.title('Active Duration vs HP Core Speed (Ratio)')\n",
    "plt.xlabel('LP/HP Core Speed (Ratio)')\n",
    "plt.ylabel('Backup Core Active Duration')\n",
    "\n",
    "plt.show()"
   ]
  },
  {
   "cell_type": "code",
   "execution_count": 71,
   "metadata": {},
   "outputs": [
    {
     "data": {
      "image/png": "[encoded data removed]",
      "text/plain": [
       "<Figure size 432x288 with 1 Axes>"
      ]
     },
     "metadata": {
      "needs_background": "light"
     },
     "output_type": "display_data"
    }
   ],
   "source": [
    "# Plot Energy Consumption vs Backup Core Active Duration\n",
    "\n",
    "plt.plot(active_duration_results[0], results_norm[0])\n",
    "plt.title('Energy Consumption vs Backup Core Active Duration (FEST)')\n",
    "plt.xlabel('Backup Core Active Duration')\n",
    "plt.ylabel('Normalized Energy Consumption')\n",
    "\n",
    "plt.show()"
   ]
  },
  {
   "cell_type": "code",
   "execution_count": 72,
   "metadata": {},
   "outputs": [
    {
     "data": {
      "image/png": "[encoded data removed]",
      "text/plain": [
       "<Figure size 432x288 with 1 Axes>"
      ]
     },
     "metadata": {
      "needs_background": "light"
     },
     "output_type": "display_data"
    }
   ],
   "source": [
    "# Plot Energy Consumption vs Backup Core Active Duration\n",
    "\n",
    "plt.plot(active_duration_results[1], results_norm[1])\n",
    "plt.title('Energy Consumption vs Backup Core Active Duration (EnSuRe 2 LP-core)')\n",
    "plt.xlabel('Backup Core Active Duration')\n",
    "plt.ylabel('Normalized Energy Consumption')\n",
    "\n",
    "plt.show()"
   ]
  },
  {
   "cell_type": "markdown",
   "metadata": {},
   "source": [
    "### d. Energy Consumption vs No. Faults, k"
   ]
  },
  {
   "cell_type": "code",
   "execution_count": 75,
   "metadata": {
    "scrolled": true
   },
   "outputs": [
    {
     "name": "stdout",
     "output_type": "stream",
     "text": [
      "Run FEST\n",
      "k: 20\n",
      "numsets: 0\n",
      "numsets: 1\n",
      "numsets: 2\n",
      "numsets: 3\n",
      "numsets: 4\n",
      "k: 40\n",
      "numsets: 0\n",
      "numsets: 1\n",
      "numsets: 2\n",
      "numsets: 3\n",
      "numsets: 4\n",
      "k: 60\n",
      "numsets: 0\n",
      "numsets: 1\n",
      "numsets: 2\n",
      "numsets: 3\n",
      "numsets: 4\n",
      "k: 80\n",
      "numsets: 0\n",
      "numsets: 1\n",
      "numsets: 2\n",
      "numsets: 3\n",
      "numsets: 4\n",
      "k: 100\n",
      "numsets: 0\n",
      "numsets: 1\n",
      "numsets: 2\n",
      "numsets: 3\n",
      "numsets: 4\n",
      "k: 120\n",
      "numsets: 0\n",
      "numsets: 1\n",
      "numsets: 2\n",
      "numsets: 3\n",
      "numsets: 4\n",
      "k: 140\n",
      "numsets: 0\n",
      "numsets: 1\n",
      "numsets: 2\n",
      "numsets: 3\n",
      "numsets: 4\n",
      "k: 160\n",
      "numsets: 0\n",
      "numsets: 1\n",
      "numsets: 2\n",
      "numsets: 3\n",
      "numsets: 4\n",
      "Run EnSuRe - 2 LP cores\n",
      "k: 20\n",
      "numsets: 0\n",
      "numsets: 1\n",
      "numsets: 2\n",
      "numsets: 3\n",
      "numsets: 4\n",
      "k: 40\n",
      "numsets: 0\n",
      "numsets: 1\n",
      "numsets: 2\n",
      "numsets: 3\n",
      "numsets: 4\n",
      "k: 60\n",
      "numsets: 0\n",
      "numsets: 1\n",
      "numsets: 2\n",
      "numsets: 3\n",
      "numsets: 4\n",
      "k: 80\n",
      "numsets: 0\n",
      "numsets: 1\n",
      "numsets: 2\n",
      "numsets: 3\n",
      "numsets: 4\n",
      "k: 100\n",
      "numsets: 0\n",
      "numsets: 1\n",
      "numsets: 2\n",
      "numsets: 3\n",
      "numsets: 4\n",
      "k: 120\n",
      "numsets: 0\n",
      "numsets: 1\n",
      "numsets: 2\n",
      "numsets: 3\n",
      "numsets: 4\n",
      "k: 140\n",
      "numsets: 0\n",
      "numsets: 1\n",
      "numsets: 2\n",
      "numsets: 3\n",
      "numsets: 4\n",
      "k: 160\n",
      "numsets: 0\n",
      "numsets: 1\n",
      "numsets: 2\n",
      "numsets: 3\n",
      "numsets: 4\n",
      "Run EnSuRe - 3 LP cores\n",
      "k: 20\n",
      "numsets: 0\n",
      "numsets: 1\n",
      "numsets: 2\n",
      "numsets: 3\n",
      "numsets: 4\n",
      "k: 40\n",
      "numsets: 0\n",
      "numsets: 1\n",
      "numsets: 2\n",
      "numsets: 3\n",
      "numsets: 4\n",
      "k: 60\n",
      "numsets: 0\n",
      "numsets: 1\n",
      "numsets: 2\n",
      "numsets: 3\n",
      "numsets: 4\n",
      "k: 80\n",
      "numsets: 0\n",
      "numsets: 1\n",
      "numsets: 2\n",
      "numsets: 3\n",
      "numsets: 4\n",
      "k: 100\n",
      "numsets: 0\n",
      "numsets: 1\n",
      "numsets: 2\n",
      "numsets: 3\n",
      "numsets: 4\n",
      "k: 120\n",
      "numsets: 0\n",
      "numsets: 1\n",
      "numsets: 2\n",
      "numsets: 3\n",
      "numsets: 4\n",
      "k: 140\n",
      "numsets: 0\n",
      "numsets: 1\n",
      "numsets: 2\n",
      "numsets: 3\n",
      "numsets: 4\n",
      "k: 160\n",
      "numsets: 0\n",
      "numsets: 1\n",
      "numsets: 2\n",
      "numsets: 3\n",
      "numsets: 4\n",
      "Run EnSuRe - 4 LP cores\n",
      "k: 20\n",
      "numsets: 0\n",
      "numsets: 1\n",
      "numsets: 2\n",
      "numsets: 3\n",
      "numsets: 4\n",
      "k: 40\n",
      "numsets: 0\n",
      "numsets: 1\n",
      "numsets: 2\n",
      "numsets: 3\n",
      "numsets: 4\n",
      "k: 60\n",
      "numsets: 0\n",
      "numsets: 1\n",
      "numsets: 2\n",
      "numsets: 3\n",
      "numsets: 4\n",
      "k: 80\n",
      "numsets: 0\n",
      "numsets: 1\n",
      "numsets: 2\n",
      "numsets: 3\n",
      "numsets: 4\n",
      "k: 100\n",
      "numsets: 0\n",
      "numsets: 1\n",
      "numsets: 2\n",
      "numsets: 3\n",
      "numsets: 4\n",
      "k: 120\n",
      "numsets: 0\n",
      "numsets: 1\n",
      "numsets: 2\n",
      "numsets: 3\n",
      "numsets: 4\n",
      "k: 140\n",
      "numsets: 0\n",
      "numsets: 1\n",
      "numsets: 2\n",
      "numsets: 3\n",
      "numsets: 4\n",
      "k: 160\n",
      "numsets: 0\n",
      "numsets: 1\n",
      "numsets: 2\n",
      "numsets: 3\n",
      "numsets: 4\n",
      "Done\n",
      "[[152.42540849999995, 193.9274427499999, 232.48990799999987, 272.03965224999985, 310.77465449999977, 346.99460224999973, 382.8841747499997, 418.32348824999974], [180.66550225001282, 232.9420675000252, 279.37787375003944, 322.8259200000536, 364.71404725006505, 401.4040430000749, 435.822547000083, 464.30828150008875], [191.04118200000872, 243.17228275001654, 290.5091967500267, 333.855767750036, 375.4822147500436, 413.3787367500505, 446.55426325005556, 476.4043327500598], [200.6229775000059, 253.7904965000116, 301.09172850001966, 346.56323375002745, 388.0599525000333, 424.378489250038, 458.95336650004236, 486.69046050004556]]\n"
     ]
    }
   ],
   "source": [
    "# scheduler parameters\n",
    "k_values = [20, 40, 60, 80, 100, 120, 140, 160]\n",
    "sys_util = 0.5  # fixed at 50% system utilisation\n",
    "\n",
    "# results to collect\n",
    "energy_consumed_results = []   # get energy consumed from the simulations\n",
    "\n",
    "# 2. Run algorithms\n",
    "def run(scheduler_type, num_lpcores):\n",
    "    results = []\n",
    "    for k in k_values:\n",
    "        print(\"k: {0}\".format(k))\n",
    "        energy_consumed_per_sysutil = 0\n",
    "        for i in range(num_sets):\n",
    "            print(\"numsets: {0}\".format(i))\n",
    "            # i. import task set\n",
    "            with open('tasksets/sysutil{0}_{1}.csv'.format(sys_util, i)) as read_obj:\n",
    "                # pass the file object to reader() to get the reader object\n",
    "                csv_reader = reader(read_obj)\n",
    "                # Get all rows of csv from csv_reader object as list of tuples\n",
    "                tasks_data = [tuple(map(literal_eval, x)) for x in map(tuple, csv_reader)]\n",
    "\n",
    "            # ii. convert data into Task objects\n",
    "            tasks = []\n",
    "            for task in tasks_data:\n",
    "                if scheduler_type == \"FEST\":\n",
    "                    tasks.append(Task(task[0], task[1], task[2]))\n",
    "                elif scheduler_type == \"EnSuRe\":\n",
    "                    tasks.append(ApproxTask(task[0], task[1], task[2], 0, 0, task[3]))\n",
    "\n",
    "            # iii. run the FEST algorithm\n",
    "            energy_consumed = 0\n",
    "            for x in range(repeat):  # repeat several times, due to randomised fault distribution, to get average\n",
    "                system = System(scheduler_type, k, frame_duration, time_step, num_lpcores, lp_hp_ratio)\n",
    "                system.run(tasks)\n",
    "                # get total energy consumption\n",
    "                energy = system.get_energy_consumption()\n",
    "\n",
    "                energy_consumed += energy\n",
    "            energy_consumed /= repeat  # get the average from the repeated runs\n",
    "\n",
    "            # iv. get energy consumption data point from this task set\n",
    "            energy_consumed_per_sysutil += energy_consumed\n",
    "\n",
    "        # v. get the average energy consumption for this sys_util value over different task sets\n",
    "        energy_consumed_per_sysutil /= num_sets\n",
    "\n",
    "        results.append(energy_consumed_per_sysutil)\n",
    "        \n",
    "    return results\n",
    "\n",
    "print(\"Run FEST\")\n",
    "energy_consumed_results.append(run(\"FEST\", 1))\n",
    "print(\"Run EnSuRe - 2 LP cores\")\n",
    "energy_consumed_results.append(run(\"EnSuRe\", 2))\n",
    "print(\"Run EnSuRe - 3 LP cores\")\n",
    "energy_consumed_results.append(run(\"EnSuRe\", 3))\n",
    "print(\"Run EnSuRe - 4 LP cores\")\n",
    "energy_consumed_results.append(run(\"EnSuRe\", 4))\n",
    "\n",
    "print(\"Done\")\n",
    "print(energy_consumed_results)"
   ]
  },
  {
   "cell_type": "code",
   "execution_count": 76,
   "metadata": {},
   "outputs": [
    {
     "name": "stdout",
     "output_type": "stream",
     "text": [
      "[array([0.31318758, 0.39846157, 0.47769563, 0.55895826, 0.63854684,\n",
      "       0.71296775, 0.78670984, 0.85952679]), array([0.37121233, 0.47862468, 0.57403606, 0.6633085 , 0.74937579,\n",
      "       0.8247625 , 0.895482  , 0.95401147]), array([0.39253118, 0.49964465, 0.59690752, 0.68597146, 0.77150108,\n",
      "       0.84936684, 0.91753239, 0.97886515]), array([0.41221884, 0.52146183, 0.61865139, 0.71208142, 0.79734448,\n",
      "       0.87196796, 0.94300876, 1.        ])]\n"
     ]
    }
   ],
   "source": [
    "# 3. Normalize energy consumption\n",
    "import numpy as np\n",
    "\n",
    "# get max energy for normalizing\n",
    "max_energy = 0\n",
    "for i in range(len(energy_consumed_results)):\n",
    "    max_energy = max(max_energy, max(energy_consumed_results[i]))\n",
    "\n",
    "# normalize results\n",
    "results_norm = []\n",
    "for results in energy_consumed_results:\n",
    "    results_norm.append(np.array(results) / max_energy)\n",
    "\n",
    "print(results_norm)"
   ]
  },
  {
   "cell_type": "code",
   "execution_count": 78,
   "metadata": {
    "scrolled": true
   },
   "outputs": [
    {
     "data": {
      "image/png": "[encoded data removed]",
      "text/plain": [
       "<Figure size 432x288 with 1 Axes>"
      ]
     },
     "metadata": {
      "needs_background": "light"
     },
     "output_type": "display_data"
    }
   ],
   "source": [
    "# 4. Plot graph\n",
    "\n",
    "plt.title('Energy Consumption vs No. Faults (k)')\n",
    "plt.xlabel('No. Faults (k)')\n",
    "plt.ylabel('Normalized Energy Consumption')\n",
    "\n",
    "plt.ylim([0.0, 1.1])\n",
    "\n",
    "plt.plot(k_values, results_norm[0], label='FEST')\n",
    "plt.plot(k_values, results_norm[1], label='EnSuRe (2 LP-core)')\n",
    "plt.plot(k_values, results_norm[2], label='EnSuRe (3 LP-core)')\n",
    "plt.plot(k_values, results_norm[3], label='EnSuRe (4 LP-core)')\n",
    "\n",
    "plt.legend()\n",
    "\n",
    "plt.show()"
   ]
  }
 ],
 "metadata": {
  "kernelspec": {
   "display_name": "Python 3",
   "language": "python",
   "name": "python3"
  },
  "language_info": {
   "codemirror_mode": {
    "name": "ipython",
    "version": 3
   },
   "file_extension": ".py",
   "mimetype": "text/x-python",
   "name": "python",
   "nbconvert_exporter": "python",
   "pygments_lexer": "ipython3",
   "version": "3.8.3"
  }
 },
 "nbformat": 4,
 "nbformat_minor": 4
}
