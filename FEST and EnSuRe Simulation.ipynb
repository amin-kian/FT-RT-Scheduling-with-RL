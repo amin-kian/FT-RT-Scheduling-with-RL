{
 "cells": [
  {
   "cell_type": "markdown",
   "metadata": {},
   "source": [
    "# 1. Generate task sets\n",
    "\n",
    "There is already a group of task sets in the 'tasksets/' folder in this directory. Run the cell in this section only to generate a new group of task sets."
   ]
  },
  {
   "cell_type": "code",
   "execution_count": 1,
   "metadata": {},
   "outputs": [],
   "source": [
    "# import taskset generator algorithm from .py file\n",
    "from TasksetGenerator import TasksetGenerator"
   ]
  },
  {
   "cell_type": "markdown",
   "metadata": {},
   "source": [
    "# 2. Run algorithms"
   ]
  },
  {
   "cell_type": "code",
   "execution_count": 2,
   "metadata": {},
   "outputs": [],
   "source": [
    "# import algorithms from .py files\n",
    "from System import System\n",
    "from Task import Task"
   ]
  },
  {
   "cell_type": "markdown",
   "metadata": {},
   "source": [
    "# 3. Results"
   ]
  },
  {
   "cell_type": "markdown",
   "metadata": {},
   "source": [
    "## 1) Generate Task Sets"
   ]
  },
  {
   "cell_type": "code",
   "execution_count": 3,
   "metadata": {
    "scrolled": true
   },
   "outputs": [],
   "source": [
    "# 1. Task Set Parameters\n",
    "sys_utils = [0.5, 0.6, 0.7, 0.8, 0.9]\n",
    "num_sets = 5  # no. task sets to generate with this configuration\n",
    "n = 200  # no. tasks in set\n",
    "frame_duration = 200  # length of frame, in ms\n",
    "\n",
    "precision_dp = 2  # how many decimal places, i.e. 0.01\n",
    "time_step = 1 / 10**precision_dp  #0.01\n",
    "lp_hp_ratio = 0.8  # ratio of LP core:HP core speeds"
   ]
  },
  {
   "cell_type": "code",
   "execution_count": 4,
   "metadata": {
    "scrolled": true
   },
   "outputs": [],
   "source": [
    "# 1. Generate tasksets for system utilisation 50%, 60%, 70%, 80%, 90%\n",
    "for sys_util in sys_utils:\n",
    "    for i in range(num_sets):\n",
    "        taskset_gen = TasksetGenerator(n, frame_duration, sys_util, precision_dp, lp_hp_ratio)\n",
    "        taskset_gen.generate('tasksets/sysutil{0}_{1}.csv'.format(sys_util, i))"
   ]
  },
  {
   "cell_type": "markdown",
   "metadata": {},
   "source": [
    "## 2) Run Simulations"
   ]
  },
  {
   "cell_type": "code",
   "execution_count": 5,
   "metadata": {},
   "outputs": [],
   "source": [
    "# import CSV reader libraries\n",
    "from csv import reader\n",
    "from ast import literal_eval\n",
    "\n",
    "# no. times to run for average\n",
    "repeat = 5\n",
    "\n",
    "# import matplotlib for graph plotting\n",
    "import matplotlib.pyplot as plt"
   ]
  },
  {
   "cell_type": "markdown",
   "metadata": {},
   "source": [
    "### a. Energy Consumption vs System Utilisation (%)"
   ]
  },
  {
   "cell_type": "code",
   "execution_count": 6,
   "metadata": {},
   "outputs": [
    {
     "name": "stdout",
     "output_type": "stream",
     "text": [
      "Done\n",
      "[61.65635950000005, 70.63567624999988, 80.85582174999998, 89.6027797500002, 99.04984475000009]\n"
     ]
    }
   ],
   "source": [
    "# scheduler parameters\n",
    "k = 20\n",
    "\n",
    "# results to collect\n",
    "energy_consumed_results = []   # get energy consumed from the simulations\n",
    "\n",
    "# 2. Run algorithms\n",
    "for sys_util in sys_utils:\n",
    "    energy_consumed_per_sysutil = 0\n",
    "    for i in range(num_sets):\n",
    "        # i. import task set\n",
    "        with open('tasksets/sysutil{0}_{1}.csv'.format(sys_util, i)) as read_obj:\n",
    "            # pass the file object to reader() to get the reader object\n",
    "            csv_reader = reader(read_obj)\n",
    "            # Get all rows of csv from csv_reader object as list of tuples\n",
    "            tasks_data = [tuple(map(literal_eval, x)) for x in map(tuple, csv_reader)]\n",
    "\n",
    "        # ii. convert data into Task objects\n",
    "        tasks = []\n",
    "        for task in tasks_data:\n",
    "            tasks.append(Task(task[0], task[1], task[2]))\n",
    "\n",
    "        # iii. run the FEST algorithm\n",
    "        energy_consumed = 0\n",
    "        for x in range(repeat):  # repeat several times, due to randomised fault distribution, to get average\n",
    "            system = System(\"FEST\", k, frame_duration, time_step, 1, lp_hp_ratio)\n",
    "            system.run(tasks)\n",
    "            # get total energy consumption\n",
    "            energy = system.get_energy_consumption()\n",
    "            \n",
    "            energy_consumed += energy\n",
    "        energy_consumed /= repeat  # get the average from the repeated runs\n",
    "        \n",
    "        # iv. get energy consumption data point from this task set\n",
    "        energy_consumed_per_sysutil += energy_consumed\n",
    "    \n",
    "    # v. get the average energy consumption for this sys_util value over different task sets\n",
    "    energy_consumed_per_sysutil /= num_sets\n",
    "    \n",
    "    energy_consumed_results.append(energy_consumed_per_sysutil)\n",
    "    \n",
    "print(\"Done\")\n",
    "print(energy_consumed_results)"
   ]
  },
  {
   "cell_type": "code",
   "execution_count": 7,
   "metadata": {},
   "outputs": [
    {
     "name": "stdout",
     "output_type": "stream",
     "text": [
      "[0.6224781  0.71313263 0.81631447 0.90462312 1.        ]\n"
     ]
    }
   ],
   "source": [
    "# 3. Normalize energy consumption\n",
    "import numpy as np\n",
    "results_norm = np.array(energy_consumed_results) / max(energy_consumed_results)\n",
    "\n",
    "print(results_norm)"
   ]
  },
  {
   "cell_type": "code",
   "execution_count": 8,
   "metadata": {},
   "outputs": [
    {
     "data": {
      "image/png": "[encoded data removed]",
      "text/plain": [
       "<Figure size 432x288 with 1 Axes>"
      ]
     },
     "metadata": {
      "needs_background": "light"
     },
     "output_type": "display_data"
    }
   ],
   "source": [
    "# 4. Plot graph\n",
    "\n",
    "plt.plot(sys_utils, results_norm)\n",
    "plt.title('Energy Consumption vs Sys Util (%)')\n",
    "plt.xlabel('Sys Util (%)')\n",
    "plt.ylabel('Energy Consumption')\n",
    "\n",
    "plt.ylim([0.0, 1.1])\n",
    "\n",
    "plt.show()"
   ]
  },
  {
   "cell_type": "markdown",
   "metadata": {},
   "source": [
    "### b. Analysing impact of frequency of HP Core\n",
    "\n",
    "The backup core can be scaled . This affects energy consumption, and the active duration of the HP Core."
   ]
  },
  {
   "cell_type": "code",
   "execution_count": 36,
   "metadata": {},
   "outputs": [
    {
     "name": "stdout",
     "output_type": "stream",
     "text": [
      "Done\n",
      "[1168.4805800000006, 314.7881360000001, 170.60497955555564, 111.84121200000007, 88.93963200000006, 75.0823167407408, 66.4896883381925, 61.34712425000007, 57.66403283950624, 55.03600400000006]\n",
      "[1.1252000000000006, 2.1708000000000007, 3.4332000000000003, 4.371200000000001, 5.6808000000000005, 6.802, 7.830000000000001, 9.010000000000002, 10.1376, 11.206000000000001]\n"
     ]
    }
   ],
   "source": [
    "# scheduler parameters\n",
    "k = 20\n",
    "sys_util = 0.5  # fixed at 50% system utilisation\n",
    "lp_hp_ratios = [0.1, 0.2, 0.3, 0.4, 0.5, 0.6, 0.7, 0.8, 0.9, 1.0]\n",
    "\n",
    "# results to collect\n",
    "energy_consumed_results = []   # get energy consumed from the simulations\n",
    "active_duration_results = []\n",
    "\n",
    "# 2. Run algorithms\n",
    "for spd_ratio in lp_hp_ratios:\n",
    "    energy_consumed_per_sysutil = 0\n",
    "    active_duration_per_spdratio = 0\n",
    "    for i in range(num_sets):\n",
    "        # i. import task set\n",
    "        with open('tasksets/sysutil{0}_{1}.csv'.format(sys_util, i)) as read_obj:\n",
    "            # pass the file object to reader() to get the reader object\n",
    "            csv_reader = reader(read_obj)\n",
    "            # Get all rows of csv from csv_reader object as list of tuples\n",
    "            tasks_data = [tuple(map(literal_eval, x)) for x in map(tuple, csv_reader)]\n",
    "\n",
    "        # ii. convert data into Task objects\n",
    "        tasks = []\n",
    "        for task in tasks_data:\n",
    "            # Adjust HP core execution time based on new LP:HP speed ratio\n",
    "            hp_execTime = round(task[1] * spd_ratio, precision_dp)\n",
    "            tasks.append(Task(task[0], task[1], hp_execTime))\n",
    "\n",
    "        # iii. run the FEST algorithm\n",
    "        energy_consumed = 0\n",
    "        active_duration = 0\n",
    "        for x in range(repeat):  # repeat several times, due to randomised fault distribution, to get average\n",
    "            system = System(k, frame_duration, time_step, spd_ratio)\n",
    "            system.run(tasks)\n",
    "            # get total energy consumption\n",
    "            energy = system.get_energy_consumption()\n",
    "            \n",
    "            # get HP core active duration\n",
    "            duration = system.get_hpcore_active_duration()\n",
    "            \n",
    "            energy_consumed += energy\n",
    "            active_duration += duration\n",
    "        energy_consumed /= repeat  # get the average from the repeated runs\n",
    "        active_duration /= repeat\n",
    "        \n",
    "        # iv. get energy consumption data point from this task set\n",
    "        energy_consumed_per_sysutil += energy_consumed\n",
    "        active_duration_per_spdratio += active_duration\n",
    "    \n",
    "    # v. get the average energy consumption for this sys_util value over different task sets\n",
    "    energy_consumed_per_sysutil /= num_sets\n",
    "    active_duration_per_spdratio /= num_sets\n",
    "    \n",
    "    energy_consumed_results.append(energy_consumed_per_sysutil)\n",
    "    active_duration_results.append(active_duration_per_spdratio)\n",
    "    \n",
    "print(\"Done\")\n",
    "print(energy_consumed_results)\n",
    "print(active_duration_results)"
   ]
  },
  {
   "cell_type": "code",
   "execution_count": 40,
   "metadata": {},
   "outputs": [
    {
     "name": "stdout",
     "output_type": "stream",
     "text": [
      "[1.         0.26939954 0.14600583 0.09571508 0.07611563 0.06425637\n",
      " 0.05690269 0.05250162 0.04934959 0.04710049]\n"
     ]
    }
   ],
   "source": [
    "# 3. Normalize energy consumption\n",
    "import numpy as np\n",
    "results_norm = np.array(energy_consumed_results) / max(energy_consumed_results)\n",
    "\n",
    "print(results_norm)"
   ]
  },
  {
   "cell_type": "code",
   "execution_count": 42,
   "metadata": {},
   "outputs": [
    {
     "data": {
      "image/png": "[encoded data removed]",
      "text/plain": [
       "<Figure size 432x288 with 1 Axes>"
      ]
     },
     "metadata": {
      "needs_background": "light"
     },
     "output_type": "display_data"
    }
   ],
   "source": [
    "# 4. Plot graph\n",
    "\n",
    "plt.plot(lp_hp_ratios, results_norm)\n",
    "plt.title('Energy Consumption vs HP Core Speed (Ratio)')\n",
    "plt.xlabel('LP/HP Core Speed (Ratio)')\n",
    "plt.ylabel('Energy Consumption')\n",
    "\n",
    "plt.ylim([0.0, 1.1])\n",
    "\n",
    "plt.show()"
   ]
  },
  {
   "cell_type": "code",
   "execution_count": 31,
   "metadata": {},
   "outputs": [
    {
     "data": {
      "image/png": "[encoded data removed]",
      "text/plain": [
       "<Figure size 432x288 with 1 Axes>"
      ]
     },
     "metadata": {
      "needs_background": "light"
     },
     "output_type": "display_data"
    }
   ],
   "source": [
    "# Plot Backup Core Active Duration vs LP/HP Core Speed\n",
    "\n",
    "plt.plot(lp_hp_ratios, active_duration_results)\n",
    "plt.title('Active Duration vs HP Core Speed (Ratio)')\n",
    "plt.xlabel('LP/HP Core Speed (Ratio)')\n",
    "plt.ylabel('Backup Core Active Duration')\n",
    "\n",
    "plt.show()"
   ]
  },
  {
   "cell_type": "code",
   "execution_count": 32,
   "metadata": {},
   "outputs": [
    {
     "data": {
      "image/png": "[encoded data removed]",
      "text/plain": [
       "<Figure size 432x288 with 1 Axes>"
      ]
     },
     "metadata": {
      "needs_background": "light"
     },
     "output_type": "display_data"
    }
   ],
   "source": [
    "# Plot Energy Consumption vs Backup Core Active Duration\n",
    "\n",
    "plt.plot(active_duration_results, results_norm)\n",
    "plt.title('Energy Consumption vs Backup Core Active Duration')\n",
    "plt.xlabel('Backup Core Active Duration')\n",
    "plt.ylabel('Energy Consumption')\n",
    "\n",
    "plt.show()"
   ]
  },
  {
   "cell_type": "markdown",
   "metadata": {},
   "source": [
    "### c. Energy Consumption vs No. Faults, k"
   ]
  },
  {
   "cell_type": "code",
   "execution_count": null,
   "metadata": {},
   "outputs": [],
   "source": [
    "# scheduler parameters\n",
    "k_values = [20, 40, 60, 80, 100, 120, 140, 160]\n",
    "sys_util = 0.5  # fixed at 50% system utilisation\n",
    "\n",
    "# results to collect\n",
    "energy_consumed_results = []   # get energy consumed from the simulations\n",
    "\n",
    "# 2. Run algorithms\n",
    "for k in k_values:\n",
    "    energy_consumed_per_sysutil = 0\n",
    "    for i in range(num_sets):\n",
    "        # i. import task set\n",
    "        with open('tasksets/sysutil{0}_{1}.csv'.format(sys_util, i)) as read_obj:\n",
    "            # pass the file object to reader() to get the reader object\n",
    "            csv_reader = reader(read_obj)\n",
    "            # Get all rows of csv from csv_reader object as list of tuples\n",
    "            tasks_data = [tuple(map(literal_eval, x)) for x in map(tuple, csv_reader)]\n",
    "\n",
    "        # ii. convert data into Task objects\n",
    "        tasks = []\n",
    "        for task in tasks_data:\n",
    "            tasks.append(Task(task[0], task[1], task[2]))\n",
    "\n",
    "        # iii. run the FEST algorithm\n",
    "        energy_consumed = 0\n",
    "        for x in range(repeat):  # repeat several times, due to randomised fault distribution, to get average\n",
    "            system = System(k, frame_duration, time_step, lp_hp_ratio)\n",
    "            system.run(tasks)\n",
    "            # get total energy consumption\n",
    "            energy = system.get_energy_consumption()\n",
    "            \n",
    "            energy_consumed += energy\n",
    "        energy_consumed /= repeat  # get the average from the repeated runs\n",
    "        \n",
    "        # iv. get energy consumption data point from this task set\n",
    "        energy_consumed_per_sysutil += energy_consumed\n",
    "    \n",
    "    # v. get the average energy consumption for this sys_util value over different task sets\n",
    "    energy_consumed_per_sysutil /= num_sets\n",
    "    \n",
    "    energy_consumed_results.append(energy_consumed_per_sysutil)\n",
    "    \n",
    "print(\"Done\")\n",
    "print(energy_consumed_results)"
   ]
  },
  {
   "cell_type": "code",
   "execution_count": null,
   "metadata": {},
   "outputs": [],
   "source": [
    "# 3. Normalize energy consumption\n",
    "import numpy as np\n",
    "results_norm = np.array(energy_consumed_results) / max(energy_consumed_results)\n",
    "\n",
    "print(results_norm)"
   ]
  },
  {
   "cell_type": "code",
   "execution_count": null,
   "metadata": {},
   "outputs": [],
   "source": [
    "# 4. Plot graph\n",
    "\n",
    "plt.plot(k_values, results_norm)\n",
    "plt.title('Energy Consumption vs Sys Util (%)')\n",
    "plt.xlabel('No. Faults (k)')\n",
    "plt.ylabel('Energy Consumption')\n",
    "\n",
    "plt.ylim([0.0, 1.1])\n",
    "\n",
    "plt.show()"
   ]
  },
  {
   "cell_type": "markdown",
   "metadata": {},
   "source": [
    "### d. Distribution of Faults\n",
    "\n",
    "If the distribution of the fault occurrences were not uniform"
   ]
  },
  {
   "cell_type": "code",
   "execution_count": null,
   "metadata": {},
   "outputs": [],
   "source": []
  }
 ],
 "metadata": {
  "kernelspec": {
   "display_name": "Python 3",
   "language": "python",
   "name": "python3"
  },
  "language_info": {
   "codemirror_mode": {
    "name": "ipython",
    "version": 3
   },
   "file_extension": ".py",
   "mimetype": "text/x-python",
   "name": "python",
   "nbconvert_exporter": "python",
   "pygments_lexer": "ipython3",
   "version": "3.8.3"
  }
 },
 "nbformat": 4,
 "nbformat_minor": 4
}
