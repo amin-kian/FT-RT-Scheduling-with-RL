{
 "cells": [
  {
   "cell_type": "markdown",
   "metadata": {},
   "source": [
    "# 1. Generate task sets\n",
    "\n",
    "There is already a group of task sets in the 'tasksets/' folder in this directory. Run the cell in this section only to generate a new group of task sets."
   ]
  },
  {
   "cell_type": "code",
   "execution_count": 1,
   "metadata": {},
   "outputs": [],
   "source": [
    "# import taskset generator algorithm from .py file\n",
    "from TasksetGenerator import TasksetGenerator"
   ]
  },
  {
   "cell_type": "markdown",
   "metadata": {},
   "source": [
    "# 2. Run algorithms"
   ]
  },
  {
   "cell_type": "code",
   "execution_count": 2,
   "metadata": {},
   "outputs": [],
   "source": [
    "# import algorithms from .py files\n",
    "from System import System\n",
    "from Task import Task\n",
    "from ApproxTask import ApproxTask"
   ]
  },
  {
   "cell_type": "markdown",
   "metadata": {},
   "source": [
    "# 3. Results"
   ]
  },
  {
   "cell_type": "markdown",
   "metadata": {},
   "source": [
    "## 1) Generate Task Sets"
   ]
  },
  {
   "cell_type": "code",
   "execution_count": 3,
   "metadata": {
    "scrolled": true
   },
   "outputs": [],
   "source": [
    "# 1. Task Set Parameters\n",
    "sys_utils = [0.5, 0.6, 0.7, 0.8, 0.9]\n",
    "num_sets = 5  # no. task sets to generate with this configuration\n",
    "n = 200  # no. tasks in set\n",
    "frame_duration = 500  # length of frame, in ms\n",
    "\n",
    "precision_dp = 2  # how many decimal places, i.e. 0.01\n",
    "time_step = 1 / 10**precision_dp  #0.01\n",
    "lp_hp_ratio = 0.8  # ratio of LP core:HP core speeds"
   ]
  },
  {
   "cell_type": "code",
   "execution_count": 4,
   "metadata": {
    "scrolled": true
   },
   "outputs": [],
   "source": [
    "# 1. Generate tasksets for system utilisation 50%, 60%, 70%, 80%, 90%\n",
    "for sys_util in sys_utils:\n",
    "    for i in range(num_sets):\n",
    "        taskset_gen = TasksetGenerator(\"normal\", n, frame_duration, sys_util, precision_dp, lp_hp_ratio)\n",
    "        taskset_gen.generate('tasksets/sysutil{0}_{1}.csv'.format(sys_util, i))"
   ]
  },
  {
   "cell_type": "markdown",
   "metadata": {},
   "source": [
    "## 2) Run Simulations"
   ]
  },
  {
   "cell_type": "code",
   "execution_count": 5,
   "metadata": {},
   "outputs": [],
   "source": [
    "# import CSV reader libraries\n",
    "from csv import reader\n",
    "from ast import literal_eval\n",
    "\n",
    "# no. times to run for average\n",
    "repeat = 5\n",
    "\n",
    "# import matplotlib for graph plotting\n",
    "import matplotlib.pyplot as plt"
   ]
  },
  {
   "cell_type": "markdown",
   "metadata": {},
   "source": [
    "### a. Energy Consumption vs System Utilisation (%)"
   ]
  },
  {
   "cell_type": "code",
   "execution_count": 31,
   "metadata": {
    "scrolled": false
   },
   "outputs": [
    {
     "name": "stdout",
     "output_type": "stream",
     "text": [
      "Run FEST\n",
      "Run EnSuRe - 2 cores\n",
      "Run EnSuRe - 3 cores\n",
      "Run EnSuRe - 4 cores\n",
      "Done\n",
      "[[153.24309699999995, 175.91947724999994, 201.48328899999996, 225.4625432499998, 247.2808512499999], [179.8045177500125, 206.00175775000463, 233.53249449999717, 261.6106959999935, 284.9766872499933], [190.32307925000873, 216.696587250003, 243.28382674999733, 272.5412714999947, 294.33351724999494], [201.30396575000563, 227.49138750000196, 255.132020999998, 281.12695574999594, 304.05830049999565]]\n"
     ]
    }
   ],
   "source": [
    "# scheduler parameters\n",
    "k = 20\n",
    "\n",
    "# results to collect\n",
    "energy_consumed_results = []   # get energy consumed from the simulations\n",
    "\n",
    "# 2. Run algorithms\n",
    "def run(scheduler_type, num_lpcores):\n",
    "    results = []\n",
    "    for sys_util in sys_utils:\n",
    "        energy_consumed_per_sysutil = 0\n",
    "        for i in range(num_sets):\n",
    "            # i. import task set\n",
    "            with open('tasksets/sysutil{0}_{1}.csv'.format(sys_util, i)) as read_obj:\n",
    "                # pass the file object to reader() to get the reader object\n",
    "                csv_reader = reader(read_obj)\n",
    "                # Get all rows of csv from csv_reader object as list of tuples\n",
    "                tasks_data = [tuple(map(literal_eval, x)) for x in map(tuple, csv_reader)]\n",
    "\n",
    "            # ii. convert data into Task objects\n",
    "            tasks = []\n",
    "            for task in tasks_data:\n",
    "                if scheduler_type == \"FEST\":\n",
    "                    tasks.append(Task(task[0], task[1], task[2]))\n",
    "                elif scheduler_type == \"EnSuRe\":\n",
    "                    tasks.append(ApproxTask(task[0], task[1], task[2], 0, 0, task[3]))\n",
    "\n",
    "            # iii. run the FEST algorithm\n",
    "            energy_consumed = 0\n",
    "            for x in range(repeat):  # repeat several times, due to randomised fault distribution, to get average\n",
    "                system = System(scheduler_type, k, frame_duration, time_step, num_lpcores, lp_hp_ratio, False)\n",
    "                system.run(tasks)\n",
    "                # get total energy consumption\n",
    "                energy = system.get_energy_consumption()\n",
    "\n",
    "                energy_consumed += energy\n",
    "            energy_consumed /= repeat  # get the average from the repeated runs\n",
    "\n",
    "            # iv. get energy consumption data point from this task set\n",
    "            energy_consumed_per_sysutil += energy_consumed\n",
    "\n",
    "        # v. get the average energy consumption for this sys_util value over different task sets\n",
    "        energy_consumed_per_sysutil /= num_sets\n",
    "\n",
    "        results.append(energy_consumed_per_sysutil)\n",
    "        \n",
    "    return results\n",
    "\n",
    "print(\"Run FEST\")\n",
    "energy_consumed_results.append(run(\"FEST\", 1))\n",
    "print(\"Run EnSuRe - 2 LP cores\")\n",
    "energy_consumed_results.append(run(\"EnSuRe\", 2))\n",
    "print(\"Run EnSuRe - 3 LP cores\")\n",
    "energy_consumed_results.append(run(\"EnSuRe\", 3))\n",
    "print(\"Run EnSuRe - 4 LP cores\")\n",
    "energy_consumed_results.append(run(\"EnSuRe\", 4))\n",
    "        \n",
    "print(\"Done\")\n",
    "print(energy_consumed_results)"
   ]
  },
  {
   "cell_type": "code",
   "execution_count": 34,
   "metadata": {},
   "outputs": [
    {
     "name": "stdout",
     "output_type": "stream",
     "text": [
      "[array([0.50399248, 0.57857153, 0.6626469 , 0.7415109 , 0.81326789]), array([0.59134882, 0.67750743, 0.7680517 , 0.86039649, 0.93724357]), array([0.62594272, 0.71268104, 0.8001223 , 0.89634544, 0.96801672]), array([0.66205713, 0.74818345, 0.83908915, 0.92458241, 1.        ])]\n"
     ]
    }
   ],
   "source": [
    "# 3. Normalize energy consumption\n",
    "import numpy as np\n",
    "\n",
    "# get max energy for normalizing\n",
    "max_energy = 0\n",
    "for i in range(len(energy_consumed_results)):\n",
    "    max_energy = max(max_energy, max(energy_consumed_results[i]))\n",
    "\n",
    "# normalize results\n",
    "results_norm = []\n",
    "for results in energy_consumed_results:\n",
    "    results_norm.append(np.array(results) / max_energy)\n",
    "\n",
    "print(results_norm)"
   ]
  },
  {
   "cell_type": "code",
   "execution_count": 36,
   "metadata": {},
   "outputs": [
    {
     "data": {
      "image/png": "[encoded data removed]",
      "text/plain": [
       "<Figure size 432x288 with 1 Axes>"
      ]
     },
     "metadata": {
      "needs_background": "light"
     },
     "output_type": "display_data"
    }
   ],
   "source": [
    "# 4. Plot graph\n",
    "\n",
    "plt.title('Energy Consumption vs Sys Util (%)')\n",
    "plt.xlabel('Sys Util (%)')\n",
    "plt.ylabel('Normalized Energy Consumption')\n",
    "\n",
    "plt.ylim([0.0, 1.1])\n",
    "\n",
    "plt.plot(sys_utils, results_norm[0], label='FEST')\n",
    "plt.plot(sys_utils, results_norm[1], label='EnSuRe (2-core)')\n",
    "plt.plot(sys_utils, results_norm[2], label='EnSuRe (3-core)')\n",
    "plt.plot(sys_utils, results_norm[3], label='EnSuRe (4-core)')\n",
    "\n",
    "plt.legend()\n",
    "\n",
    "plt.show()"
   ]
  },
  {
   "cell_type": "markdown",
   "metadata": {},
   "source": [
    "### b. Analysing impact of frequency of HP Core\n",
    "\n",
    "The frequency of the backup core (HP Core) could be set to different scales, which controls how fast the backup core is processing.\n",
    "The change in frequency affects energy consumption, and the active duration of the backup core."
   ]
  },
  {
   "cell_type": "code",
   "execution_count": 43,
   "metadata": {},
   "outputs": [
    {
     "name": "stdout",
     "output_type": "stream",
     "text": [
      "Run FEST\n",
      "Run EnSuRe - 2 LP cores\n",
      "Run EnSuRe - 3 LP cores\n",
      "Run EnSuRe - 4 LP cores\n",
      "Done\n",
      "[[2875.23598, 791.202644, 418.41588133333335, 282.39839399999994, 218.98830399999997, 186.75461259259254, 165.9842422507288, 154.02068774999992, 143.75547808504797, 136.75379199999995], [5986.958583999936, 1224.2769760000006, 588.0088368888971, 375.3386180000105, 280.4024760000126, 229.93908548149443, 199.61693293295758, 180.485289000013, 168.59692741290718, 158.7579960000127], [6028.413347999931, 1254.5552879999964, 605.4970367407445, 392.664178000006, 291.7956200000077, 239.88822355556417, 209.84463570846347, 190.9934737500085, 178.70358693004977, 169.74231600000834], [6081.941499999928, 1267.2918239999938, 615.2789343703716, 400.22859200000346, 301.2275880000052, 251.8010109629688, 220.5471591137084, 201.9314032500058, 189.12994402744047, 179.8308920000055]]\n",
      "[[2.7668, 5.461600000000001, 8.362799999999998, 11.1156, 13.7436, 16.7924, 19.456400000000002, 22.8812, 25.193600000000004, 27.357599999999998], [5.867199999999923, 8.835199999999904, 12.638399999999876, 16.328399999999853, 20.01279999999994, 23.658800000000042, 27.08800000000005, 30.529600000000055, 34.73680000000002, 37.36759999999994], [5.898799999999921, 8.997199999999903, 12.839599999999873, 16.793999999999862, 20.210799999999946, 23.67480000000004, 27.138400000000047, 30.814000000000057, 34.633200000000016, 38.44439999999993], [5.942399999999922, 9.020799999999904, 12.829599999999875, 16.643199999999858, 20.097999999999942, 24.05440000000005, 27.36280000000005, 31.27400000000005, 35.0012, 38.44679999999992]]\n"
     ]
    }
   ],
   "source": [
    "# scheduler parameters\n",
    "k = 20\n",
    "sys_util = 0.5  # fixed at 50% system utilisation\n",
    "lp_hp_ratios = [0.1, 0.2, 0.3, 0.4, 0.5, 0.6, 0.7, 0.8, 0.9, 1.0]\n",
    "\n",
    "# results to collect\n",
    "energy_consumed_results = []   # get energy consumed from the simulations\n",
    "active_duration_results = []\n",
    "\n",
    "# 2. Run algorithms\n",
    "def run(scheduler_type, num_lpcores):\n",
    "    energy_results = []\n",
    "    active_results = []\n",
    "    for spd_ratio in lp_hp_ratios:\n",
    "        energy_consumed_per_sysutil = 0\n",
    "        active_duration_per_spdratio = 0\n",
    "        for i in range(num_sets):\n",
    "            # i. import task set\n",
    "            with open('tasksets/sysutil{0}_{1}.csv'.format(sys_util, i)) as read_obj:\n",
    "                # pass the file object to reader() to get the reader object\n",
    "                csv_reader = reader(read_obj)\n",
    "                # Get all rows of csv from csv_reader object as list of tuples\n",
    "                tasks_data = [tuple(map(literal_eval, x)) for x in map(tuple, csv_reader)]\n",
    "\n",
    "            # ii. convert data into Task objects\n",
    "            tasks = []\n",
    "            for task in tasks_data:\n",
    "                # Adjust HP core execution time based on new LP:HP speed ratio\n",
    "                hp_execTime = round(task[1] * spd_ratio, precision_dp)\n",
    "                if scheduler_type == \"FEST\":\n",
    "                    tasks.append(Task(task[0], task[1], hp_execTime))\n",
    "                elif scheduler_type == \"EnSuRe\":\n",
    "                    tasks.append(ApproxTask(task[0], task[1], hp_execTime, 0, 0, task[3]))\n",
    "\n",
    "            # iii. run the FEST algorithm\n",
    "            energy_consumed = 0\n",
    "            active_duration = 0\n",
    "            for x in range(repeat):  # repeat several times, due to randomised fault distribution, to get average\n",
    "                system = System(scheduler_type, k, frame_duration, time_step, num_lpcores, spd_ratio)\n",
    "                system.run(tasks)\n",
    "                # get total energy consumption\n",
    "                energy = system.get_energy_consumption()\n",
    "\n",
    "                # get HP core active duration\n",
    "                duration = system.get_hpcore_active_duration()\n",
    "\n",
    "                energy_consumed += energy\n",
    "                active_duration += duration\n",
    "            energy_consumed /= repeat  # get the average from the repeated runs\n",
    "            active_duration /= repeat\n",
    "\n",
    "            # iv. get energy consumption data point from this task set\n",
    "            energy_consumed_per_sysutil += energy_consumed\n",
    "            active_duration_per_spdratio += active_duration\n",
    "\n",
    "        # v. get the average energy consumption for this sys_util value over different task sets\n",
    "        energy_consumed_per_sysutil /= num_sets\n",
    "        active_duration_per_spdratio /= num_sets\n",
    "\n",
    "        energy_results.append(energy_consumed_per_sysutil)\n",
    "        active_results.append(active_duration_per_spdratio)\n",
    "        \n",
    "    return energy_results, active_results\n",
    "\n",
    "print(\"Run FEST\")\n",
    "results = run(\"FEST\", 1)\n",
    "energy_consumed_results.append(results[0])\n",
    "active_duration_results.append(results[1])\n",
    "\n",
    "print(\"Run EnSuRe - 2 LP cores\")\n",
    "results = run(\"EnSuRe\", 2)\n",
    "energy_consumed_results.append(results[0])\n",
    "active_duration_results.append(results[1])\n",
    "\n",
    "print(\"Run EnSuRe - 3 LP cores\")\n",
    "results = run(\"EnSuRe\", 3)\n",
    "energy_consumed_results.append(results[0])\n",
    "active_duration_results.append(results[1])\n",
    "\n",
    "print(\"Run EnSuRe - 4 LP cores\")\n",
    "results = run(\"EnSuRe\", 4)\n",
    "energy_consumed_results.append(results[0])\n",
    "active_duration_results.append(results[1])\n",
    "\n",
    "print(\"Done\")\n",
    "print(energy_consumed_results)\n",
    "print(active_duration_results)"
   ]
  },
  {
   "cell_type": "code",
   "execution_count": 44,
   "metadata": {},
   "outputs": [
    {
     "name": "stdout",
     "output_type": "stream",
     "text": [
      "[array([0.47274969, 0.13009047, 0.06879643, 0.04643228, 0.03600632,\n",
      "       0.03070641, 0.02729133, 0.02532426, 0.02363645, 0.02248522]), array([0.9843828 , 0.20129707, 0.09668111, 0.06171362, 0.04610411,\n",
      "       0.03780686, 0.03282125, 0.0296756 , 0.02772091, 0.02610318]), array([0.99119884, 0.20627546, 0.09955654, 0.06456231, 0.04797738,\n",
      "       0.0394427 , 0.0345029 , 0.03140337, 0.02938265, 0.02790923]), array([1.        , 0.20836962, 0.10116489, 0.06580606, 0.0495282 ,\n",
      "       0.04140142, 0.03626262, 0.0332018 , 0.03109697, 0.02956801])]\n"
     ]
    }
   ],
   "source": [
    "# 3. Normalize energy consumption\n",
    "import numpy as np\n",
    "\n",
    "# get max energy for normalizing\n",
    "max_energy = 0\n",
    "for i in range(len(energy_consumed_results)):\n",
    "    max_energy = max(max_energy, max(energy_consumed_results[i]))\n",
    "\n",
    "# normalize results\n",
    "results_norm = []\n",
    "for results in energy_consumed_results:\n",
    "    results_norm.append(np.array(results) / max_energy)\n",
    "\n",
    "print(results_norm)"
   ]
  },
  {
   "cell_type": "code",
   "execution_count": 50,
   "metadata": {},
   "outputs": [
    {
     "data": {
      "image/png": "[encoded data removed]",
      "text/plain": [
       "<Figure size 432x288 with 1 Axes>"
      ]
     },
     "metadata": {
      "needs_background": "light"
     },
     "output_type": "display_data"
    }
   ],
   "source": [
    "# 4. Plot graph\n",
    "\n",
    "plt.title('Energy Consumption vs HP Core Speed (Ratio)')\n",
    "plt.xlabel('LP/HP Core Speed (Ratio)')\n",
    "plt.ylabel('Normalized Energy Consumption')\n",
    "\n",
    "plt.ylim([0.0, 1.1])\n",
    "\n",
    "plt.plot(lp_hp_ratios, results_norm[0], label='FEST')\n",
    "plt.plot(lp_hp_ratios, results_norm[1], label='EnSuRe (2-core)')\n",
    "plt.plot(lp_hp_ratios, results_norm[2], label='EnSuRe (3-core)')\n",
    "plt.plot(lp_hp_ratios, results_norm[3], label='EnSuRe (4-core)')\n",
    "\n",
    "plt.legend()\n",
    "\n",
    "plt.show()"
   ]
  },
  {
   "cell_type": "code",
   "execution_count": null,
   "metadata": {},
   "outputs": [],
   "source": [
    "# Plot Backup Core Active Duration vs LP/HP Core Speed\n",
    "\n",
    "plt.plot(lp_hp_ratios, active_duration_results)\n",
    "plt.title('Active Duration vs HP Core Speed (Ratio)')\n",
    "plt.xlabel('LP/HP Core Speed (Ratio)')\n",
    "plt.ylabel('Backup Core Active Duration')\n",
    "\n",
    "plt.show()"
   ]
  },
  {
   "cell_type": "code",
   "execution_count": null,
   "metadata": {},
   "outputs": [],
   "source": [
    "# Plot Energy Consumption vs Backup Core Active Duration\n",
    "\n",
    "plt.plot(active_duration_results, results_norm)\n",
    "plt.title('Energy Consumption vs Backup Core Active Duration')\n",
    "plt.xlabel('Backup Core Active Duration')\n",
    "plt.ylabel('Normalized Energy Consumption')\n",
    "\n",
    "plt.show()"
   ]
  },
  {
   "cell_type": "markdown",
   "metadata": {},
   "source": [
    "### c. Energy Consumption vs No. Faults, k"
   ]
  },
  {
   "cell_type": "code",
   "execution_count": null,
   "metadata": {},
   "outputs": [],
   "source": [
    "# scheduler parameters\n",
    "k_values = [20, 40, 60, 80, 100, 120, 140, 160]\n",
    "sys_util = 0.5  # fixed at 50% system utilisation\n",
    "\n",
    "# results to collect\n",
    "energy_consumed_results = []   # get energy consumed from the simulations\n",
    "\n",
    "# 2. Run algorithms\n",
    "for k in k_values:\n",
    "    energy_consumed_per_sysutil = 0\n",
    "    for i in range(num_sets):\n",
    "        # i. import task set\n",
    "        with open('tasksets/sysutil{0}_{1}.csv'.format(sys_util, i)) as read_obj:\n",
    "            # pass the file object to reader() to get the reader object\n",
    "            csv_reader = reader(read_obj)\n",
    "            # Get all rows of csv from csv_reader object as list of tuples\n",
    "            tasks_data = [tuple(map(literal_eval, x)) for x in map(tuple, csv_reader)]\n",
    "\n",
    "        # ii. convert data into Task objects\n",
    "        tasks = []\n",
    "        for task in tasks_data:\n",
    "            tasks.append(Task(task[0], task[1], task[2]))\n",
    "\n",
    "        # iii. run the FEST algorithm\n",
    "        energy_consumed = 0\n",
    "        for x in range(repeat):  # repeat several times, due to randomised fault distribution, to get average\n",
    "            system = System(k, frame_duration, time_step, lp_hp_ratio)\n",
    "            system.run(tasks)\n",
    "            # get total energy consumption\n",
    "            energy = system.get_energy_consumption()\n",
    "            \n",
    "            energy_consumed += energy\n",
    "        energy_consumed /= repeat  # get the average from the repeated runs\n",
    "        \n",
    "        # iv. get energy consumption data point from this task set\n",
    "        energy_consumed_per_sysutil += energy_consumed\n",
    "    \n",
    "    # v. get the average energy consumption for this sys_util value over different task sets\n",
    "    energy_consumed_per_sysutil /= num_sets\n",
    "    \n",
    "    energy_consumed_results.append(energy_consumed_per_sysutil)\n",
    "    \n",
    "print(\"Done\")\n",
    "print(energy_consumed_results)"
   ]
  },
  {
   "cell_type": "code",
   "execution_count": null,
   "metadata": {},
   "outputs": [],
   "source": [
    "# 3. Normalize energy consumption\n",
    "import numpy as np\n",
    "results_norm = np.array(energy_consumed_results) / max(energy_consumed_results)\n",
    "\n",
    "print(results_norm)"
   ]
  },
  {
   "cell_type": "code",
   "execution_count": null,
   "metadata": {},
   "outputs": [],
   "source": [
    "# 4. Plot graph\n",
    "\n",
    "plt.plot(k_values, results_norm)\n",
    "plt.title('Energy Consumption vs Sys Util (%)')\n",
    "plt.xlabel('No. Faults (k)')\n",
    "plt.ylabel('Normalized Energy Consumption')\n",
    "\n",
    "plt.ylim([0.0, 1.1])\n",
    "\n",
    "plt.show()"
   ]
  },
  {
   "cell_type": "markdown",
   "metadata": {},
   "source": [
    "### d. Distribution of Faults\n",
    "\n",
    "If the distribution of the fault occurrences were not uniform"
   ]
  },
  {
   "cell_type": "code",
   "execution_count": null,
   "metadata": {},
   "outputs": [],
   "source": []
  }
 ],
 "metadata": {
  "kernelspec": {
   "display_name": "Python 3",
   "language": "python",
   "name": "python3"
  },
  "language_info": {
   "codemirror_mode": {
    "name": "ipython",
    "version": 3
   },
   "file_extension": ".py",
   "mimetype": "text/x-python",
   "name": "python",
   "nbconvert_exporter": "python",
   "pygments_lexer": "ipython3",
   "version": "3.8.3"
  }
 },
 "nbformat": 4,
 "nbformat_minor": 4
}
