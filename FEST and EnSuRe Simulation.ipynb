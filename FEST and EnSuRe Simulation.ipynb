{
 "cells": [
  {
   "cell_type": "markdown",
   "metadata": {},
   "source": [
    "# Analysing Energy Consumption When Tolerating Faults in Two Real-Time Fault Tolerant Scheduling Algorithms on Heterogeneous Systems\n",
    "\n",
    "### FEST and EnSuRe Simulations and Results"
   ]
  },
  {
   "cell_type": "markdown",
   "metadata": {},
   "source": [
    "## 1) Simulation Parameters\n",
    "\n",
    "Simulation parameters for the task set, system and scheduling."
   ]
  },
  {
   "cell_type": "code",
   "execution_count": 81,
   "metadata": {
    "scrolled": true
   },
   "outputs": [],
   "source": [
    "# 1. Task Set Parameters\n",
    "sys_utils = [0.5, 0.6, 0.7, 0.8, 0.85, 0.9]\n",
    "num_sets = 4  # no. task sets to generate with this configuration\n",
    "n = 100  # no. tasks in set\n",
    "frame_duration = 200  # length of frame, in ms\n",
    "\n",
    "precision_taskgen = 2 # decimal places for execution time in taskset generation, i.e. 0.01 = 2 dp\n",
    "precision_dp = 4  # decimal places for system, i.e. 0.001 = 3 dp\n",
    "time_step = 1/10**precision_dp  # how responsive the system is, for execution time to be split into time units\n",
    "lp_hp_ratio = 0.8  # ratio of LP core:HP core speeds"
   ]
  },
  {
   "cell_type": "markdown",
   "metadata": {},
   "source": [
    "## 2) Generate Task Sets (optional)\n",
    "\n",
    "This cell will generate a new group of task sets into the 'tasksets/' folder in this directory. **If there is already a group of task sets in the folder, there is no need to run the cell in this section.**\n",
    "\n",
    "As the tasksets are randomly generated, a seed is used to re-generate the same taskset. The obtained results might slightly differ in exact values, but the same trends should still be observed."
   ]
  },
  {
   "cell_type": "code",
   "execution_count": 82,
   "metadata": {
    "scrolled": true
   },
   "outputs": [],
   "source": [
    "# import taskset generator algorithm from .py file\n",
    "from TasksetGenerator import TasksetGenerator\n",
    "\n",
    "num_lpcores = [1, 2, 3, 4]\n",
    "seed = 50\n",
    "\n",
    "# 1. Generate tasksets for system utilisation 50%, 60%, 70%, 80%, 90%, and no. LP cores 1, 2, 3, 4\n",
    "for sys_util in sys_utils:\n",
    "    for i in range(num_sets):\n",
    "        for x in num_lpcores:\n",
    "            taskset_gen = TasksetGenerator(\"normal\", n, frame_duration, sys_util, precision_taskgen, x, lp_hp_ratio, seed)\n",
    "            taskset_gen.generate('tasksets/sysutil{0}_cores{1}_{2}.csv'.format(sys_util, x, i))"
   ]
  },
  {
   "cell_type": "markdown",
   "metadata": {},
   "source": [
    "## 3) Run Simulations\n",
    "\n",
    "As the simulations are run with the faults occurring randomly, the obtained results might slightly differ in exact values, but the same trends should be observed."
   ]
  },
  {
   "cell_type": "markdown",
   "metadata": {},
   "source": [
    "**Import algorithms and libraries**"
   ]
  },
  {
   "cell_type": "code",
   "execution_count": 53,
   "metadata": {},
   "outputs": [],
   "source": [
    "# import algorithms from .py files\n",
    "from System import System\n",
    "from Task import Task\n",
    "from ApproxTask import ApproxTask"
   ]
  },
  {
   "cell_type": "code",
   "execution_count": 54,
   "metadata": {},
   "outputs": [],
   "source": [
    "# import CSV reader libraries\n",
    "from csv import reader\n",
    "from ast import literal_eval\n",
    "\n",
    "# import matplotlib for graph plotting\n",
    "import matplotlib.pyplot as plt\n",
    "\n",
    "# no. times to run for average\n",
    "repeat = 5"
   ]
  },
  {
   "cell_type": "markdown",
   "metadata": {},
   "source": [
    "### a. Energy Consumption vs No. Cores\n",
    "\n",
    "For a fixed workload, the change in energy consumption vs the number of cores for EnSuRe is observed. The energy consumption for FEST is also shown."
   ]
  },
  {
   "cell_type": "markdown",
   "metadata": {},
   "source": [
    "**i.  Run the algorithms**"
   ]
  },
  {
   "cell_type": "code",
   "execution_count": 74,
   "metadata": {
    "scrolled": true
   },
   "outputs": [
    {
     "name": "stdout",
     "output_type": "stream",
     "text": [
      "Run FEST\n",
      "Run EnSuRe - 1 LP core\n",
      "Run EnSuRe - 2 LP cores\n",
      "Run EnSuRe - 3 LP cores\n",
      "Run EnSuRe - 4 LP cores\n",
      "Done\n",
      "[75.86940025051675, 83.2906516723434, 86.54524122508981, 90.30150868425497, 93.84310152801015]\n"
     ]
    }
   ],
   "source": [
    "# scheduler parameters\n",
    "k = 20\n",
    "\n",
    "# results to collect\n",
    "energy_consumed_results = []   # get energy consumed from the simulations\n",
    "\n",
    "# Run algorithms\n",
    "def run(scheduler_type, num_lpcores):\n",
    "    sys_util = 0.5\n",
    "    energy_consumed_per_sysutil = 0\n",
    "    for i in range(num_sets):\n",
    "        # i. import task set\n",
    "        with open('tasksets/sysutil{0}_cores{1}_{2}.csv'.format(sys_util, 1, i)) as read_obj:\n",
    "            # pass the file object to reader() to get the reader object\n",
    "            csv_reader = reader(read_obj)\n",
    "            # Get all rows of csv from csv_reader object as list of tuples\n",
    "            tasks_data = [tuple(map(literal_eval, x)) for x in map(tuple, csv_reader)]\n",
    "\n",
    "        # ii. convert data into Task objects\n",
    "        tasks = []\n",
    "        for task in tasks_data:\n",
    "            if scheduler_type == \"FEST\":\n",
    "                tasks.append(Task(task[0], task[1], task[2]))\n",
    "            elif scheduler_type == \"EnSuRe\":\n",
    "                tasks.append(ApproxTask(task[0], task[1], task[2], 0, 0, task[3]))\n",
    "\n",
    "        # iii. run the FEST/EnSuRe algorithm\n",
    "        energy_consumed = 0\n",
    "        for x in range(repeat):  # repeat several times, due to randomised fault distribution, to get average\n",
    "            system = System(scheduler_type, k, frame_duration, time_step, num_lpcores, lp_hp_ratio, False)\n",
    "            system.run(tasks)\n",
    "            # get total energy consumption\n",
    "            energy = system.get_energy_consumption()\n",
    "\n",
    "            energy_consumed += energy\n",
    "        energy_consumed /= repeat  # get the average from the repeated runs\n",
    "\n",
    "        # iv. get energy consumption data point from this task set\n",
    "        energy_consumed_per_sysutil += energy_consumed\n",
    "\n",
    "    # v. get the average energy consumption for this sys_util value over different task sets\n",
    "    energy_consumed_per_sysutil /= num_sets\n",
    "        \n",
    "    return energy_consumed_per_sysutil\n",
    "\n",
    "print(\"Run FEST\")\n",
    "energy_consumed_results.append(run(\"FEST\", 1))\n",
    "print(\"Run EnSuRe - 1 LP core\")\n",
    "energy_consumed_results.append(run(\"EnSuRe\", 1))\n",
    "print(\"Run EnSuRe - 2 LP cores\")\n",
    "energy_consumed_results.append(run(\"EnSuRe\", 2))\n",
    "print(\"Run EnSuRe - 3 LP cores\")\n",
    "energy_consumed_results.append(run(\"EnSuRe\", 3))\n",
    "print(\"Run EnSuRe - 4 LP cores\")\n",
    "energy_consumed_results.append(run(\"EnSuRe\", 4))\n",
    "        \n",
    "print(\"Done\")\n",
    "print(energy_consumed_results)"
   ]
  },
  {
   "cell_type": "markdown",
   "metadata": {},
   "source": [
    "**ii.  Normalize the energy consumption**"
   ]
  },
  {
   "cell_type": "code",
   "execution_count": 75,
   "metadata": {},
   "outputs": [
    {
     "name": "stdout",
     "output_type": "stream",
     "text": [
      "[0.80847072 0.8875522  0.92223339 0.96226049 1.        ]\n"
     ]
    }
   ],
   "source": [
    "import numpy as np\n",
    "\n",
    "# get max energy for normalizing\n",
    "max_energy = max(energy_consumed_results)\n",
    "\n",
    "# normalize results\n",
    "results_norm = np.array(energy_consumed_results) / max_energy\n",
    "\n",
    "print(results_norm)"
   ]
  },
  {
   "cell_type": "markdown",
   "metadata": {},
   "source": [
    "**iii.  Plot results**"
   ]
  },
  {
   "cell_type": "code",
   "execution_count": 76,
   "metadata": {},
   "outputs": [
    {
     "data": {
      "image/png": "[encoded data removed]",
      "text/plain": [
       "<Figure size 432x288 with 1 Axes>"
      ]
     },
     "metadata": {
      "needs_background": "light"
     },
     "output_type": "display_data"
    }
   ],
   "source": [
    "plt.title('Energy Consumption vs No. LP Cores')\n",
    "plt.ylabel('Normalized Energy Consumption (%)')\n",
    "\n",
    "plt.ylim([0.0, 1.1])\n",
    "\n",
    "x_axis = ['FEST', 'EnSuRe\\n(1 LP-core)', 'EnSuRe\\n(2 LP-core)', 'EnSuRe\\n(3 LP-core)', 'EnSuRe\\n(4 LP-core)']\n",
    "\n",
    "plt.plot(x_axis, results_norm, marker='o')\n",
    "\n",
    "plt.show()"
   ]
  },
  {
   "cell_type": "markdown",
   "metadata": {},
   "source": [
    "### b. Energy Consumption vs System Utilisation (%)\n",
    "\n",
    "System Utilisation is a measure of how much the system is being utilised, as a percentage of the total workload (i.e. execution times) of the tasks over the available time of the LP core(s). The change in energy consumption is observed as system utilisation increases."
   ]
  },
  {
   "cell_type": "markdown",
   "metadata": {},
   "source": [
    "**i.  Run the algorithms**"
   ]
  },
  {
   "cell_type": "code",
   "execution_count": 59,
   "metadata": {
    "scrolled": true
   },
   "outputs": [
    {
     "name": "stdout",
     "output_type": "stream",
     "text": [
      "Run FEST\n",
      "Run EnSuRe - 2 LP cores\n",
      "Run EnSuRe - 3 LP cores\n",
      "Run EnSuRe - 4 LP cores\n",
      "Done\n",
      "[[76.24394521301491, 88.30210987568701, 100.79945377585679, 112.91162347603341, 118.5607206136111, 125.92690225120747], [154.88565263909697, 178.1897341679956, 199.88718718121584, 222.41288479446362, 230.8851860634949, 241.11825249195957], [227.36278126914686, 259.13725971395166, 292.46593533068307, 327.89324811310917, 342.4768859792182, 359.1023139485202], [297.78795225850365, 344.641492241309, 390.094880311568, 430.100826975396, 458.06550811694933, 491.7190200899415]]\n"
     ]
    }
   ],
   "source": [
    "# scheduler parameters\n",
    "k = 20\n",
    "\n",
    "# results to collect\n",
    "energy_consumed_results = []   # get energy consumed from the simulations\n",
    "\n",
    "# Run algorithms\n",
    "def run(scheduler_type, num_lpcores):\n",
    "    results = []\n",
    "    for sys_util in sys_utils:\n",
    "        energy_consumed_per_sysutil = 0\n",
    "        for i in range(num_sets):\n",
    "            # i. import task set\n",
    "            with open('tasksets/sysutil{0}_cores{1}_{2}.csv'.format(sys_util, num_lpcores, i)) as read_obj:\n",
    "                # pass the file object to reader() to get the reader object\n",
    "                csv_reader = reader(read_obj)\n",
    "                # Get all rows of csv from csv_reader object as list of tuples\n",
    "                tasks_data = [tuple(map(literal_eval, x)) for x in map(tuple, csv_reader)]\n",
    "\n",
    "            # ii. convert data into Task objects\n",
    "            tasks = []\n",
    "            for task in tasks_data:\n",
    "                if scheduler_type == \"FEST\":\n",
    "                    tasks.append(Task(task[0], task[1], task[2]))\n",
    "                elif scheduler_type == \"EnSuRe\":\n",
    "                    tasks.append(ApproxTask(task[0], task[1], task[2], 0, 0, task[3]))\n",
    "\n",
    "            # iii. run the FEST/EnSuRe algorithm\n",
    "            energy_consumed = 0\n",
    "            for x in range(repeat):  # repeat several times, due to randomised fault distribution, to get average\n",
    "                system = System(scheduler_type, k, frame_duration, time_step, num_lpcores, lp_hp_ratio, False)\n",
    "                system.run(tasks)\n",
    "                # get total energy consumption\n",
    "                energy = system.get_energy_consumption()\n",
    "\n",
    "                energy_consumed += energy\n",
    "            energy_consumed /= repeat  # get the average from the repeated runs\n",
    "\n",
    "            # iv. get energy consumption data point from this task set\n",
    "            energy_consumed_per_sysutil += energy_consumed\n",
    "\n",
    "        # v. get the average energy consumption for this sys_util value over different task sets\n",
    "        energy_consumed_per_sysutil /= num_sets\n",
    "\n",
    "        results.append(energy_consumed_per_sysutil)\n",
    "        \n",
    "    return results\n",
    "\n",
    "print(\"Run FEST\")\n",
    "energy_consumed_results.append(run(\"FEST\", 1))\n",
    "print(\"Run EnSuRe - 2 LP cores\")\n",
    "energy_consumed_results.append(run(\"EnSuRe\", 2))\n",
    "print(\"Run EnSuRe - 3 LP cores\")\n",
    "energy_consumed_results.append(run(\"EnSuRe\", 3))\n",
    "print(\"Run EnSuRe - 4 LP cores\")\n",
    "energy_consumed_results.append(run(\"EnSuRe\", 4))\n",
    "        \n",
    "print(\"Done\")\n",
    "print(energy_consumed_results)"
   ]
  },
  {
   "cell_type": "markdown",
   "metadata": {},
   "source": [
    "**ii.  Normalize the energy consumption**"
   ]
  },
  {
   "cell_type": "code",
   "execution_count": 60,
   "metadata": {},
   "outputs": [
    {
     "name": "stdout",
     "output_type": "stream",
     "text": [
      "[array([0.15505592, 0.17957839, 0.20499401, 0.22962631, 0.24111477,\n",
      "       0.25609524]), array([0.31498813, 0.36238121, 0.40650693, 0.45231703, 0.46954699,\n",
      "       0.49035779]), array([0.46238354, 0.52700272, 0.59478264, 0.66683052, 0.69648899,\n",
      "       0.73029982]), array([0.60560593, 0.70089111, 0.79332884, 0.8746882 , 0.93155947,\n",
      "       1.        ])]\n"
     ]
    }
   ],
   "source": [
    "import numpy as np\n",
    "\n",
    "# get max energy for normalizing\n",
    "max_energy = 0\n",
    "for i in range(len(energy_consumed_results)):\n",
    "    max_energy = max(max_energy, max(energy_consumed_results[i]))\n",
    "\n",
    "# normalize results\n",
    "results_norm = []\n",
    "for results in energy_consumed_results:\n",
    "    results_norm.append(np.array(results) / max_energy)\n",
    "\n",
    "print(results_norm)"
   ]
  },
  {
   "cell_type": "markdown",
   "metadata": {},
   "source": [
    "**iii.  Plot results**"
   ]
  },
  {
   "cell_type": "code",
   "execution_count": 61,
   "metadata": {},
   "outputs": [
    {
     "data": {
      "image/png": "[encoded data removed]",
      "text/plain": [
       "<Figure size 432x288 with 1 Axes>"
      ]
     },
     "metadata": {
      "needs_background": "light"
     },
     "output_type": "display_data"
    }
   ],
   "source": [
    "plt.title('Energy Consumption vs Sys Util (%)')\n",
    "plt.xlabel('Sys Util (%)')\n",
    "plt.ylabel('Normalized Energy Consumption (%)')\n",
    "\n",
    "plt.ylim([0.0, 1.1])\n",
    "\n",
    "plt.plot(sys_utils, results_norm[0], marker='o', label='FEST')\n",
    "plt.plot(sys_utils, results_norm[1], marker='v', label='EnSuRe (2 LP-core)')\n",
    "plt.plot(sys_utils, results_norm[2], marker='s', label='EnSuRe (3 LP-core)')\n",
    "plt.plot(sys_utils, results_norm[3], marker='H', label='EnSuRe (4 LP-core)')\n",
    "\n",
    "plt.legend()\n",
    "\n",
    "plt.show()"
   ]
  },
  {
   "cell_type": "markdown",
   "metadata": {},
   "source": [
    "### c. Analysing impact of frequency of HP Core\n",
    "\n",
    "The frequency of the backup core (HP Core) could be set to different scales, which controls how fast the backup core is processing.\n",
    "The change in frequency affects both the active duration and energy consumption of the backup core."
   ]
  },
  {
   "cell_type": "markdown",
   "metadata": {},
   "source": [
    "**i.  Run the algorithms**"
   ]
  },
  {
   "cell_type": "code",
   "execution_count": 62,
   "metadata": {},
   "outputs": [
    {
     "name": "stdout",
     "output_type": "stream",
     "text": [
      "Run FEST\n",
      "Run EnSuRe - 2 LP cores\n",
      "Run EnSuRe - 3 LP cores\n",
      "Run EnSuRe - 4 LP cores\n",
      "Done\n",
      "[[570.9882481509975, 172.2627249004782, 101.23890331531423, 75.9002673380202, 64.24104990053462], [707.6775558502834, 210.58237524997733, 117.87179108523716, 86.87097173758097, 71.87744285010194], [712.0987890500721, 215.56525402477038, 122.15411820354512, 90.09489081863043, 75.16375369990251], [721.0904288500644, 220.1561972997731, 128.1491035350261, 94.22403068738426, 78.91578089990722]]\n",
      "[[4.233100000003425, 8.325499999993935, 12.695899999983748, 17.046299999973613, 21.416899999963427], [5.308270000000968, 10.645299999988529, 15.814884999976483, 21.575739999963055, 26.91499499995061], [5.315030000000952, 10.737434999988313, 15.97048999997612, 21.301029999963696, 26.624684999951285], [5.357355000000853, 10.781239999988212, 16.49676999997489, 21.632299999962925, 26.590914999951366]]\n"
     ]
    }
   ],
   "source": [
    "# scheduler parameters\n",
    "k = 20\n",
    "sys_util = 0.5  # fixed at 50% system utilisation\n",
    "lp_hp_ratios = [0.2, 0.4, 0.6, 0.8, 1.0]\n",
    "\n",
    "# results to collect\n",
    "energy_consumed_results = []   # get energy consumed from the simulations\n",
    "active_duration_results = []\n",
    "\n",
    "# 2. Run algorithms\n",
    "def run(scheduler_type, num_lpcores):\n",
    "    energy_results = []\n",
    "    active_results = []\n",
    "    for spd_ratio in lp_hp_ratios:\n",
    "        energy_consumed_per_sysutil = 0\n",
    "        active_duration_per_spdratio = 0\n",
    "        for i in range(num_sets):\n",
    "            # i. import task set\n",
    "            with open('tasksets/sysutil{0}_cores{1}_{2}.csv'.format(sys_util, 1, i)) as read_obj:\n",
    "                # pass the file object to reader() to get the reader object\n",
    "                csv_reader = reader(read_obj)\n",
    "                # Get all rows of csv from csv_reader object as list of tuples\n",
    "                tasks_data = [tuple(map(literal_eval, x)) for x in map(tuple, csv_reader)]\n",
    "\n",
    "            # ii. convert data into Task objects\n",
    "            tasks = []\n",
    "            for task in tasks_data:\n",
    "                # Adjust HP core execution time based on new LP:HP speed ratio\n",
    "                hp_execTime = round(task[1] * spd_ratio, precision_dp)\n",
    "                if scheduler_type == \"FEST\":\n",
    "                    tasks.append(Task(task[0], task[1], hp_execTime))\n",
    "                elif scheduler_type == \"EnSuRe\":\n",
    "                    tasks.append(ApproxTask(task[0], task[1], hp_execTime, 0, 0, task[3]))\n",
    "\n",
    "            # iii. run the FEST/EnSuRe algorithm\n",
    "            energy_consumed = 0\n",
    "            active_duration = 0\n",
    "            for x in range(repeat):  # repeat several times, due to randomised fault distribution, to get average\n",
    "                system = System(scheduler_type, k, frame_duration, time_step, num_lpcores, spd_ratio)\n",
    "                system.run(tasks)\n",
    "                # get total energy consumption\n",
    "                energy = system.get_energy_consumption()\n",
    "\n",
    "                # get HP core active duration\n",
    "                duration = system.get_hpcore_active_duration()\n",
    "\n",
    "                energy_consumed += energy\n",
    "                active_duration += duration\n",
    "            energy_consumed /= repeat  # get the average from the repeated runs\n",
    "            active_duration /= repeat\n",
    "\n",
    "            # iv. get energy consumption data point from this task set\n",
    "            energy_consumed_per_sysutil += energy_consumed\n",
    "            active_duration_per_spdratio += active_duration\n",
    "\n",
    "        # v. get the average energy consumption for this sys_util value over different task sets\n",
    "        energy_consumed_per_sysutil /= num_sets\n",
    "        active_duration_per_spdratio /= num_sets\n",
    "\n",
    "        energy_results.append(energy_consumed_per_sysutil)\n",
    "        active_results.append(active_duration_per_spdratio)\n",
    "        \n",
    "    return energy_results, active_results\n",
    "\n",
    "print(\"Run FEST\")\n",
    "results = run(\"FEST\", 1)\n",
    "energy_consumed_results.append(results[0])\n",
    "active_duration_results.append(results[1])\n",
    "\n",
    "print(\"Run EnSuRe - 2 LP cores\")\n",
    "results = run(\"EnSuRe\", 2)\n",
    "energy_consumed_results.append(results[0])\n",
    "active_duration_results.append(results[1])\n",
    "\n",
    "print(\"Run EnSuRe - 3 LP cores\")\n",
    "results = run(\"EnSuRe\", 3)\n",
    "energy_consumed_results.append(results[0])\n",
    "active_duration_results.append(results[1])\n",
    "\n",
    "print(\"Run EnSuRe - 4 LP cores\")\n",
    "results = run(\"EnSuRe\", 4)\n",
    "energy_consumed_results.append(results[0])\n",
    "active_duration_results.append(results[1])\n",
    "\n",
    "print(\"Done\")\n",
    "print(energy_consumed_results)\n",
    "print(active_duration_results)"
   ]
  },
  {
   "cell_type": "markdown",
   "metadata": {},
   "source": [
    "**ii.  Normalize the energy consumption**"
   ]
  },
  {
   "cell_type": "code",
   "execution_count": 63,
   "metadata": {},
   "outputs": [
    {
     "name": "stdout",
     "output_type": "stream",
     "text": [
      "[array([0.79184   , 0.23889199, 0.14039696, 0.10525763, 0.08908876]), array([0.98139918, 0.29203324, 0.16346326, 0.12047167, 0.09967882]), array([0.9875305 , 0.29894344, 0.16940194, 0.12494257, 0.10423624]), array([1.        , 0.30531011, 0.17771572, 0.13066881, 0.10943951])]\n"
     ]
    }
   ],
   "source": [
    "import numpy as np\n",
    "\n",
    "# get max energy for normalizing\n",
    "max_energy = 0\n",
    "for i in range(len(energy_consumed_results)):\n",
    "    max_energy = max(max_energy, max(energy_consumed_results[i]))\n",
    "\n",
    "# normalize results\n",
    "results_norm = []\n",
    "for results in energy_consumed_results:\n",
    "    results_norm.append(np.array(results) / max_energy)\n",
    "\n",
    "print(results_norm)"
   ]
  },
  {
   "cell_type": "markdown",
   "metadata": {},
   "source": [
    "**iii.  Plot results**"
   ]
  },
  {
   "cell_type": "code",
   "execution_count": 64,
   "metadata": {},
   "outputs": [
    {
     "data": {
      "image/png": "[encoded data removed]",
      "text/plain": [
       "<Figure size 432x288 with 1 Axes>"
      ]
     },
     "metadata": {
      "needs_background": "light"
     },
     "output_type": "display_data"
    }
   ],
   "source": [
    "plt.title('Energy Consumption vs LP/HP Core Speed (Ratio)')\n",
    "plt.xlabel('LP/HP Core Frequency (Ratio)')\n",
    "plt.ylabel('Normalized Energy Consumption (%)')\n",
    "\n",
    "plt.ylim([0.0, 1.1])\n",
    "\n",
    "plt.plot(lp_hp_ratios, results_norm[0], marker='o', label='FEST')\n",
    "plt.plot(lp_hp_ratios, results_norm[1], marker='v', label='EnSuRe (2 LP-core)')\n",
    "plt.plot(lp_hp_ratios, results_norm[2], marker='s', label='EnSuRe (3 LP-core)')\n",
    "plt.plot(lp_hp_ratios, results_norm[3], marker='H', label='EnSuRe (4 LP-core)')\n",
    "\n",
    "plt.legend()\n",
    "\n",
    "plt.show()"
   ]
  },
  {
   "cell_type": "code",
   "execution_count": 80,
   "metadata": {},
   "outputs": [
    {
     "data": {
      "image/png": "[encoded data removed]",
      "text/plain": [
       "<Figure size 432x288 with 1 Axes>"
      ]
     },
     "metadata": {
      "needs_background": "light"
     },
     "output_type": "display_data"
    }
   ],
   "source": [
    "# Plot Backup Core Active Duration vs LP/HP Core Speed\n",
    "\n",
    "plt.plot(lp_hp_ratios, active_duration_results[0], marker='o', label='FEST')\n",
    "plt.plot(lp_hp_ratios, active_duration_results[1], marker='v', label='EnSuRe (2 LP-core)')\n",
    "plt.plot(lp_hp_ratios, active_duration_results[2], marker='s', label='EnSuRe (3 LP-core)')\n",
    "plt.plot(lp_hp_ratios, active_duration_results[3], marker='H', label='EnSuRe (4 LP-core)')\n",
    "plt.title('Active Duration vs LP/HP Core Speed (Ratio)')\n",
    "plt.xlabel('LP/HP Core Frequency (Ratio)')\n",
    "plt.ylabel('Backup Core Active Duration')\n",
    "\n",
    "plt.legend()\n",
    "\n",
    "plt.show()"
   ]
  },
  {
   "cell_type": "markdown",
   "metadata": {},
   "source": [
    "### d. Energy Consumption vs No. Faults, k\n",
    "\n",
    "When the number of faults increase, more backup tasks will be scheduled on the backup core. Thus, the backup core will consume more power if it is active for a longer duration."
   ]
  },
  {
   "cell_type": "markdown",
   "metadata": {},
   "source": [
    "**i.  Run the algorithms**"
   ]
  },
  {
   "cell_type": "code",
   "execution_count": 68,
   "metadata": {
    "scrolled": false
   },
   "outputs": [
    {
     "name": "stdout",
     "output_type": "stream",
     "text": [
      "Run FEST\n",
      "k: 20\n",
      "k: 40\n",
      "k: 60\n",
      "k: 80\n",
      "Run EnSuRe - 2 LP cores\n",
      "k: 20\n",
      "k: 40\n",
      "k: 60\n",
      "k: 80\n",
      "Run EnSuRe - 3 LP cores\n",
      "k: 20\n",
      "k: 40\n",
      "k: 60\n",
      "k: 80\n",
      "Run EnSuRe - 4 LP cores\n",
      "k: 20\n",
      "k: 40\n",
      "k: 60\n",
      "k: 80\n",
      "Done\n",
      "[[76.49447277552076, 106.44542096297, 136.33471048896223, 165.1018580274172], [86.79927295633222, 120.14934211294414, 149.9015473796271, 174.31180420553366], [90.59654970925426, 124.84721371295018, 152.72229162026264, 177.51300443055817], [93.9943948092598, 127.48182259417528, 157.21845457342496, 180.36203153056005]]\n"
     ]
    }
   ],
   "source": [
    "# scheduler parameters\n",
    "k_values = [20, 40, 60, 80]\n",
    "sys_util = 0.5  # fixed at 50% system utilisation\n",
    "\n",
    "# results to collect\n",
    "energy_consumed_results = []   # get energy consumed from the simulations\n",
    "\n",
    "# 2. Run algorithms\n",
    "def run(scheduler_type, num_lpcores):\n",
    "    results = []\n",
    "    for k in k_values:\n",
    "        print(\"k: {0}\".format(k))\n",
    "        energy_consumed_per_sysutil = 0\n",
    "        for i in range(num_sets):\n",
    "            # i. import task set\n",
    "            with open('tasksets/sysutil{0}_cores{1}_{2}.csv'.format(sys_util, 1, i)) as read_obj:\n",
    "                # pass the file object to reader() to get the reader object\n",
    "                csv_reader = reader(read_obj)\n",
    "                # Get all rows of csv from csv_reader object as list of tuples\n",
    "                tasks_data = [tuple(map(literal_eval, x)) for x in map(tuple, csv_reader)]\n",
    "\n",
    "            # ii. convert data into Task objects\n",
    "            tasks = []\n",
    "            for task in tasks_data:\n",
    "                if scheduler_type == \"FEST\":\n",
    "                    tasks.append(Task(task[0], task[1], task[2]))\n",
    "                elif scheduler_type == \"EnSuRe\":\n",
    "                    tasks.append(ApproxTask(task[0], task[1], task[2], 0, 0, task[3]))\n",
    "\n",
    "            # iii. run the FEST/EnSuRe algorithm\n",
    "            energy_consumed = 0\n",
    "            for x in range(repeat):  # repeat several times, due to randomised fault distribution, to get average\n",
    "                system = System(scheduler_type, k, frame_duration, time_step, num_lpcores, lp_hp_ratio)\n",
    "                system.run(tasks)\n",
    "                # get total energy consumption\n",
    "                energy = system.get_energy_consumption()\n",
    "\n",
    "                energy_consumed += energy\n",
    "            energy_consumed /= repeat  # get the average from the repeated runs\n",
    "\n",
    "            # iv. get energy consumption data point from this task set\n",
    "            energy_consumed_per_sysutil += energy_consumed\n",
    "\n",
    "        # v. get the average energy consumption for this sys_util value over different task sets\n",
    "        energy_consumed_per_sysutil /= num_sets\n",
    "\n",
    "        results.append(energy_consumed_per_sysutil)\n",
    "        \n",
    "    return results\n",
    "\n",
    "print(\"Run FEST\")\n",
    "energy_consumed_results.append(run(\"FEST\", 1))\n",
    "print(\"Run EnSuRe - 2 LP cores\")\n",
    "energy_consumed_results.append(run(\"EnSuRe\", 2))\n",
    "print(\"Run EnSuRe - 3 LP cores\")\n",
    "energy_consumed_results.append(run(\"EnSuRe\", 3))\n",
    "print(\"Run EnSuRe - 4 LP cores\")\n",
    "energy_consumed_results.append(run(\"EnSuRe\", 4))\n",
    "\n",
    "print(\"Done\")\n",
    "print(energy_consumed_results)"
   ]
  },
  {
   "cell_type": "markdown",
   "metadata": {},
   "source": [
    "**ii.  Normalize the energy consumption**"
   ]
  },
  {
   "cell_type": "code",
   "execution_count": 69,
   "metadata": {},
   "outputs": [
    {
     "name": "stdout",
     "output_type": "stream",
     "text": [
      "[array([0.42411627, 0.59017644, 0.75589474, 0.91539143]), array([0.48125025, 0.66615651, 0.83111476, 0.96645509]), array([0.50230389, 0.69220341, 0.84675411, 0.98420384]), array([0.52114291, 0.70681075, 0.87168266, 1.        ])]\n"
     ]
    }
   ],
   "source": [
    "import numpy as np\n",
    "\n",
    "# get max energy for normalizing\n",
    "max_energy = 0\n",
    "for i in range(len(energy_consumed_results)):\n",
    "    max_energy = max(max_energy, max(energy_consumed_results[i]))\n",
    "\n",
    "# normalize results\n",
    "results_norm = []\n",
    "for results in energy_consumed_results:\n",
    "    results_norm.append(np.array(results) / max_energy)\n",
    "\n",
    "print(results_norm)"
   ]
  },
  {
   "cell_type": "markdown",
   "metadata": {},
   "source": [
    "**iii.  Plot results**"
   ]
  },
  {
   "cell_type": "code",
   "execution_count": 70,
   "metadata": {
    "scrolled": true
   },
   "outputs": [
    {
     "data": {
      "image/png": "[encoded data removed]",
      "text/plain": [
       "<Figure size 432x288 with 1 Axes>"
      ]
     },
     "metadata": {
      "needs_background": "light"
     },
     "output_type": "display_data"
    }
   ],
   "source": [
    "plt.title('Energy Consumption vs No. Faults (k)')\n",
    "plt.xlabel('No. Faults (k)')\n",
    "plt.ylabel('Normalized Energy Consumption (%)')\n",
    "\n",
    "plt.ylim([0.0, 1.1])\n",
    "\n",
    "plt.plot(k_values, results_norm[0], marker='o', label='FEST')\n",
    "plt.plot(k_values, results_norm[1], marker='v', label='EnSuRe (2 LP-core)')\n",
    "plt.plot(k_values, results_norm[2], marker='s', label='EnSuRe (3 LP-core)')\n",
    "plt.plot(k_values, results_norm[3], marker='H', label='EnSuRe (4 LP-core)')\n",
    "\n",
    "plt.legend()\n",
    "\n",
    "plt.show()"
   ]
  },
  {
   "cell_type": "code",
   "execution_count": null,
   "metadata": {},
   "outputs": [],
   "source": []
  }
 ],
 "metadata": {
  "kernelspec": {
   "display_name": "Python 3",
   "language": "python",
   "name": "python3"
  },
  "language_info": {
   "codemirror_mode": {
    "name": "ipython",
    "version": 3
   },
   "file_extension": ".py",
   "mimetype": "text/x-python",
   "name": "python",
   "nbconvert_exporter": "python",
   "pygments_lexer": "ipython3",
   "version": "3.8.3"
  }
 },
 "nbformat": 4,
 "nbformat_minor": 4
}
